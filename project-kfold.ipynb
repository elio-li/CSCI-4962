{
 "cells": [
  {
   "cell_type": "markdown",
   "metadata": {},
   "source": [
    "# **Final Project: Twitter Bot Detection**\n",
    "\n",
    "*For details pls check the project report"
   ]
  },
  {
   "cell_type": "markdown",
   "metadata": {},
   "source": [
    "## **PART 1 - DATASET**"
   ]
  },
  {
   "cell_type": "markdown",
   "metadata": {},
   "source": [
    "### **1.1 DESCRIPTION**"
   ]
  },
  {
   "cell_type": "code",
   "execution_count": 1,
   "metadata": {},
   "outputs": [],
   "source": [
    "import pandas as pd\n",
    "\n",
    "# Accounts\n",
    "fake = pd.read_csv(\"./dataset/fake/users.csv\")\n",
    "genuine = pd.read_csv(\"./dataset/genuine/users.csv\")\n",
    "social1 = pd.read_csv(\"./dataset/social1/users.csv\")\n",
    "social2 = pd.read_csv(\"./dataset/social2/users.csv\")\n",
    "social3 = pd.read_csv(\"./dataset/social3/users.csv\")\n",
    "traditional2 = pd.read_csv(\"./dataset/traditional2/users.csv\")\n",
    "traditional3 = pd.read_csv(\"./dataset/traditional3/users.csv\")\n",
    "traditional4 = pd.read_csv(\"./dataset/traditional4/users.csv\")"
   ]
  },
  {
   "cell_type": "code",
   "execution_count": 2,
   "metadata": {},
   "outputs": [],
   "source": [
    "from sklearn.utils import shuffle\n",
    "\n",
    "# Concatenate All Dataframe as One\n",
    "social = pd.concat([social1, social2, social3])\n",
    "traditional = pd.concat([traditional2, traditional3, traditional4])\n",
    "bot_accounts = pd.concat([social, traditional, fake])\n",
    "\n",
    "bot_accounts['is_bot'] = 1\n",
    "genuine['is_bot'] = 0\n",
    "\n",
    "accounts = pd.concat([bot_accounts, genuine])\n",
    "accounts = shuffle(accounts)\n",
    "accounts = accounts.fillna('')"
   ]
  },
  {
   "cell_type": "code",
   "execution_count": 3,
   "metadata": {},
   "outputs": [
    {
     "name": "stderr",
     "output_type": "stream",
     "text": [
      "/usr/local/lib/python3.9/site-packages/IPython/core/interactiveshell.py:3444: DtypeWarning: Columns (8,11) have mixed types.Specify dtype option on import or set low_memory=False.\n",
      "  exec(code_obj, self.user_global_ns, self.user_ns)\n",
      "/usr/local/lib/python3.9/site-packages/IPython/core/interactiveshell.py:3444: DtypeWarning: Columns (0) have mixed types.Specify dtype option on import or set low_memory=False.\n",
      "  exec(code_obj, self.user_global_ns, self.user_ns)\n",
      "/usr/local/lib/python3.9/site-packages/IPython/core/interactiveshell.py:3444: DtypeWarning: Columns (10) have mixed types.Specify dtype option on import or set low_memory=False.\n",
      "  exec(code_obj, self.user_global_ns, self.user_ns)\n",
      "/usr/local/lib/python3.9/site-packages/IPython/core/interactiveshell.py:3444: DtypeWarning: Columns (7,10) have mixed types.Specify dtype option on import or set low_memory=False.\n",
      "  exec(code_obj, self.user_global_ns, self.user_ns)\n"
     ]
    }
   ],
   "source": [
    "# Tweets\n",
    "fake_t = pd.read_csv(\"./dataset/fake/tweets.csv\", encoding='latin-1')\n",
    "genuine_t = pd.read_csv(\"./dataset/genuine/tweets.csv\", encoding='latin-1')\n",
    "social1_t = pd.read_csv(\"./dataset/social1/tweets.csv\", encoding='latin-1')\n",
    "social2_t = pd.read_csv(\"./dataset/social2/tweets.csv\", encoding='latin-1')\n",
    "social3_t = pd.read_csv(\"./dataset/social3/tweets.csv\", encoding='latin-1')"
   ]
  },
  {
   "cell_type": "code",
   "execution_count": 4,
   "metadata": {},
   "outputs": [],
   "source": [
    "# Concatenate All Dataframe as One\n",
    "social_t = pd.concat([social1_t, social2_t, social3_t])\n",
    "bot_accounts_t = pd.concat([social_t, fake_t])\n",
    "\n",
    "bot_accounts_t['is_bot'] = 1\n",
    "genuine_t['is_bot'] = 0\n",
    "genuine_t = genuine_t[genuine_t['user_id'].notna()]\n",
    "genuine_t['user_id'].astype('int64')\n",
    "\n",
    "\n",
    "tweets = pd.concat([bot_accounts_t, genuine_t])\n",
    "tweets = shuffle(tweets)\n",
    "tweets = tweets.fillna('')\n",
    "\n",
    "tweets['time'] = pd.to_datetime(tweets['timestamp']).dt.time\n",
    "tweets['time'] = pd.to_timedelta(tweets.time.astype(str))"
   ]
  },
  {
   "cell_type": "markdown",
   "metadata": {},
   "source": [
    "### **1.2 DATA STATISTICS**\n",
    "\n",
    "**images are in project reports*"
   ]
  },
  {
   "cell_type": "code",
   "execution_count": 5,
   "metadata": {},
   "outputs": [],
   "source": [
    "import seaborn as sns\n",
    "import matplotlib.pyplot as plt"
   ]
  },
  {
   "cell_type": "code",
   "execution_count": null,
   "metadata": {},
   "outputs": [],
   "source": [
    "\"\"\"Number of Twitter Accounts Per Dataset\"\"\"\n",
    "\n",
    "sns.set_style(\"whitegrid\")\n",
    "num_accounts = {'Fake': len(fake.index), 'Human': len(genuine.index), 'Political': len(social1.index),\n",
    "                'Apps Promo': len(social2.index), 'Amazon': len(social3.index), 'Scam URL': len(traditional2.index),\n",
    "                'Job Offers1': len(traditional3.index), 'Job Offers2': len(traditional4.index)}"
   ]
  },
  {
   "cell_type": "code",
   "execution_count": null,
   "metadata": {},
   "outputs": [],
   "source": [
    "\"\"\"Average Number of Followers Per Account Per Dataset\"\"\"\n",
    "\n",
    "avg_followers = {'Fake': fake[\"followers_count\"].sum()/len(fake.index), 'Human': genuine[\"followers_count\"].sum()/len(genuine.index),\n",
    "                'Political': social1[\"followers_count\"].sum()/len(social1.index), 'Apps Promo': social2[\"followers_count\"].sum()/len(social2.index),\n",
    "                'Amazon': social3[\"followers_count\"].sum()/len(social3.index), 'Scam URL': traditional2[\"followers_count\"].sum()/len(traditional2.index),\n",
    "                'Job Offers1': traditional3[\"followers_count\"].sum()/len(traditional3.index),\n",
    "                'Job Offers2': traditional4[\"followers_count\"].sum()/len(traditional4.index)}"
   ]
  },
  {
   "cell_type": "code",
   "execution_count": null,
   "metadata": {},
   "outputs": [],
   "source": [
    "\"\"\"Average Number of Friends Per Account Per Dataset\"\"\"\n",
    "\n",
    "avg_friends = {'Fake': fake[\"friends_count\"].sum()/len(fake.index), 'Human': genuine[\"friends_count\"].sum()/len(genuine.index),\n",
    "                'Political': social1[\"friends_count\"].sum()/len(social1.index), 'Apps Promo': social2[\"friends_count\"].sum()/len(social2.index),\n",
    "                'Amazon': social3[\"friends_count\"].sum()/len(social3.index), 'Scam URL': traditional2[\"friends_count\"].sum()/len(traditional2.index),\n",
    "                'Job Offers1': traditional3[\"friends_count\"].sum()/len(traditional3.index),\n",
    "                'Job Offers2': traditional4[\"friends_count\"].sum()/len(traditional4.index)}"
   ]
  },
  {
   "cell_type": "code",
   "execution_count": null,
   "metadata": {},
   "outputs": [],
   "source": [
    "\"\"\"Average Number of Tweets Per Account Per Dataset\"\"\"\n",
    "\n",
    "avg_tweets = {'Fake': fake[\"statuses_count\"].sum()/len(fake.index), 'Human': genuine[\"statuses_count\"].sum()/len(genuine.index),\n",
    "                'Political': social1[\"statuses_count\"].sum()/len(social1.index), 'Apps Promo': social2[\"statuses_count\"].sum()/len(social2.index),\n",
    "                'Amazon': social3[\"statuses_count\"].sum()/len(social3.index), 'Scam URL': traditional2[\"statuses_count\"].sum()/len(traditional2.index),\n",
    "                'Job Offers1': traditional3[\"statuses_count\"].sum()/len(traditional3.index),\n",
    "                'Job Offers2': traditional4[\"statuses_count\"].sum()/len(traditional4.index)}"
   ]
  },
  {
   "cell_type": "code",
   "execution_count": null,
   "metadata": {},
   "outputs": [],
   "source": [
    "\"\"\"Average Favourites Per Account Per Dataset\"\"\"\n",
    "\n",
    "avg_fav = {'Fake': fake[\"favourites_count\"].sum()/len(fake.index), 'Human': genuine[\"favourites_count\"].sum()/len(genuine.index),\n",
    "                'Political': social1[\"favourites_count\"].sum()/len(social1.index), 'Apps Promo': social2[\"favourites_count\"].sum()/len(social2.index),\n",
    "                'Amazon': social3[\"favourites_count\"].sum()/len(social3.index), 'Scam URL': traditional2[\"favourites_count\"].sum()/len(traditional2.index),\n",
    "                'Job Offers1': traditional3[\"favourites_count\"].sum()/len(traditional3.index),\n",
    "                'Job Offers2': traditional4[\"favourites_count\"].sum()/len(traditional4.index)}"
   ]
  },
  {
   "cell_type": "code",
   "execution_count": null,
   "metadata": {},
   "outputs": [],
   "source": [
    "\"\"\"Average Listed Count Per Account Per Dataset\"\"\"\n",
    "\n",
    "avg_fav = {'Fake': fake[\"listed_count\"].sum()/len(fake.index), 'Human': genuine[\"listed_count\"].sum()/len(genuine.index),\n",
    "                'Political': social1[\"listed_count\"].sum()/len(social1.index), 'Apps Promo': social2[\"listed_count\"].sum()/len(social2.index),\n",
    "                'Amazon': social3[\"listed_count\"].sum()/len(social3.index), 'Scam URL': traditional2[\"listed_count\"].sum()/len(traditional2.index),\n",
    "                'Job Offers1': traditional3[\"listed_count\"].sum()/len(traditional3.index),\n",
    "                'Job Offers2': traditional4[\"listed_count\"].sum()/len(traditional4.index)}"
   ]
  },
  {
   "cell_type": "code",
   "execution_count": null,
   "metadata": {},
   "outputs": [],
   "source": [
    "counts = [0, 0]\n",
    "sums = [0, 0]\n",
    "\n",
    "for index, row in bot_accounts.iterrows():\n",
    "  result = scoringPostAllDayNight(row)\n",
    "  if result == 0:\n",
    "    continue\n",
    "  else:\n",
    "    sums[0] += result\n",
    "    counts[0] += 1\n",
    "\n",
    "for index, row in genuine.iterrows():\n",
    "  result = scoringPostAllDayNight(row)\n",
    "  if result == 0:\n",
    "    continue\n",
    "  else:\n",
    "    sums[1] += result\n",
    "    counts[1] += 1\n",
    "\n",
    "average = [sums[0]/counts[0], sums[1]/counts[1]] # [34.83, 217.12]"
   ]
  },
  {
   "cell_type": "code",
   "execution_count": null,
   "metadata": {},
   "outputs": [],
   "source": [
    "keys = list(avg_fav.keys())\n",
    "vals = [int(avg_fav[k]) for k in keys]\n",
    "plt.figure(figsize=(15,8))\n",
    "#plt.style.use(\"dark_background\")\n",
    "ax = sns.barplot(x = keys, y = vals)\n",
    "ax.set_title('Average Number of Tweets Per Account Per Dataset')\n",
    "ax.set_ylabel('Average Number of Tweets')\n",
    "#ax.grid(b=True, which='major', color='#d3d3d3', linewidth=1.0)\n",
    "#ax.grid(b=True, which='minor', color='#d3d3d3', linewidth=0.5)\n",
    "plt.savefig('./figures/fig4.png', transparent=True)"
   ]
  },
  {
   "cell_type": "markdown",
   "metadata": {},
   "source": [
    "## **PART 2 - METHODS & ANALYSIS**"
   ]
  },
  {
   "cell_type": "markdown",
   "metadata": {},
   "source": [
    "### **2.1 USER PROFILE**"
   ]
  },
  {
   "cell_type": "code",
   "execution_count": 6,
   "metadata": {},
   "outputs": [],
   "source": [
    "def scoringName(user):\n",
    "  return 1 if user['name'] == '' else 0\n",
    "def scoringGeo(user):\n",
    "  return 1 if user['geo_enabled'] == '' else 0\n",
    "def scoringFollower(user):\n",
    "  return 1 if user['followers_count'] < 30 else 0\n",
    "def scoringFavourites(user):\n",
    "  return 1 if user['favourites_count'] < 30 else 0\n",
    "def scoringBannerURL(user):\n",
    "  return 1 if user['profile_banner_url'] != '' else 0\n",
    "def scoringImageURL(user):\n",
    "  return 1 if user['profile_image_url'] == '' else 0\n",
    "def scoringDefaultImage(user):\n",
    "  return 1 if user['default_profile_image'] != '' else 0\n",
    "def scoringDescription(user):\n",
    "  return 1 if user['description'] == '' else 0\n",
    "def scoringVerified(user):\n",
    "  return 1 if user['verified'] != '' else 0\n",
    "def scoringProtected(user):\n",
    "  return 1 if user['protected'] == '' else 0\n",
    "def scoringFriendsCount(user):\n",
    "  return 1 if user['friends_count'] > 1000 else 0\n"
   ]
  },
  {
   "cell_type": "markdown",
   "metadata": {},
   "source": [
    "### **2.2 ACCOUNT ACTIVITY**"
   ]
  },
  {
   "cell_type": "code",
   "execution_count": 7,
   "metadata": {},
   "outputs": [],
   "source": [
    "tweets_date = tweets[['user_id', 'time']]\n",
    "\n",
    "# Time Blocks\n",
    "EARLY_MORNING_FROM = pd.to_timedelta('06:00:00')\n",
    "EARLY_MORNING_TO = pd.to_timedelta('08:59:59')\n",
    "LATE_MORNING_FROM = pd.to_timedelta('09:00:00')\n",
    "LATE_MORNING_TO = pd.to_timedelta('11:59:59')\n",
    "\n",
    "EARLY_AFTERNOON_FROM = pd.to_timedelta('12:00:00')\n",
    "EARLY_AFTERNOON_TO = pd.to_timedelta('14:59:59')\n",
    "LATE_AFTERNOON_FROM = pd.to_timedelta('15:00:00')\n",
    "LATE_AFTERNOON_TO = pd.to_timedelta('17:59:59')\n",
    "\n",
    "EARLY_EVENING_FROM = pd.to_timedelta('18:00:00')\n",
    "EARLY_EVENING_TO = pd.to_timedelta('20:59:59')\n",
    "LATE_EVENING_FROM = pd.to_timedelta('21:00:00')\n",
    "LATE_EVENING_TO = pd.to_timedelta('23:59:59')\n",
    "\n",
    "EARLY_NIGHT_FROM = pd.to_timedelta('00:00:01')\n",
    "EARLY_NIGHT_TO = pd.to_timedelta('2:59:59')\n",
    "LATE_NIGHT_FROM = pd.to_timedelta('03:00:00')\n",
    "LATE_NIGHT_TO = pd.to_timedelta('5:59:59')"
   ]
  },
  {
   "cell_type": "code",
   "execution_count": 8,
   "metadata": {},
   "outputs": [],
   "source": [
    "def scoringNoTweets(user):\n",
    "  return 1 if user['statuses_count'] == 0 else 0\n",
    "def scoringLessTweets(user):\n",
    "  return 1 if user['statuses_count'] < 1000 else 0\n",
    "def scoringPostAllDayNight(user):\n",
    "  userID = int(user['id'])\n",
    "  userTweets = tweets_date[tweets_date['user_id'] == userID]\n",
    "  count = [0, 0, 0, 0, 0, 0, 0, 0] # 8 Timeblocks\n",
    "  for index, row in userTweets.iterrows():\n",
    "    if row['time'] >= EARLY_MORNING_FROM and row['time'] <= EARLY_MORNING_TO:\n",
    "      count[0] += 1\n",
    "    elif row['time'] >= LATE_MORNING_FROM and row['time'] <= LATE_MORNING_TO:\n",
    "      count[1] += 1\n",
    "    elif row['time'] >= EARLY_AFTERNOON_FROM and row['time'] <= EARLY_AFTERNOON_TO:\n",
    "      count[2] += 1\n",
    "    elif row['time'] >= LATE_AFTERNOON_FROM and row['time'] <= LATE_AFTERNOON_TO:\n",
    "      count[3] += 1\n",
    "    elif row['time'] >= EARLY_EVENING_FROM and row['time'] <= EARLY_EVENING_TO:\n",
    "      count[4] += 1\n",
    "    elif row['time'] >= LATE_EVENING_FROM and row['time'] <= LATE_EVENING_TO:\n",
    "      count[5] += 1\n",
    "    elif row['time'] >= EARLY_NIGHT_FROM and row['time'] <= EARLY_NIGHT_TO:\n",
    "      count[6] += 1\n",
    "    elif row['time'] >= LATE_NIGHT_FROM and row['time'] <= LATE_NIGHT_TO:\n",
    "      count[7] += 1\n",
    "  mean = sum(count) / len(count)\n",
    "  variance = sum([((x - mean) ** 2) for x in count]) / len(count)\n",
    "  res = variance ** 0.5\n",
    "  if res < 100:\n",
    "    return 1\n",
    "  else:\n",
    "    return 0"
   ]
  },
  {
   "cell_type": "markdown",
   "metadata": {},
   "source": [
    "### **2.3 TEXT MINING**"
   ]
  },
  {
   "cell_type": "code",
   "execution_count": 9,
   "metadata": {},
   "outputs": [],
   "source": [
    "from itertools import product\n",
    "import numpy as np\n",
    "import editdistance"
   ]
  },
  {
   "cell_type": "code",
   "execution_count": 10,
   "metadata": {},
   "outputs": [],
   "source": [
    "def scoringLevenshtein(user):\n",
    "  userID = int(user['id'])\n",
    "  text = tweets[tweets['user_id'] == userID]['text']\n",
    "  text = text.str.replace(' ','')\n",
    "  if len(text.index) == 0:\n",
    "    return 0\n",
    "\n",
    "  LevD = np.empty(text.shape[0]**2, dtype=int)\n",
    "  for i, x in enumerate(product(text, repeat=2)):\n",
    "    LevD[i] = editdistance.eval(*x)\n",
    "  LevD = pd.DataFrame(LevD.reshape(-1, text.shape[0]))\n",
    "  LevD_Mean = LevD.mean()\n",
    "  return LevD_Mean.mean()\n",
    "def scoringBotName(user):\n",
    "  name = user['name'].lower()\n",
    "  keywords = ['bot', 'prize', 'lottery', 'insurance', 'mortgage']\n",
    "  res = [ele for ele in keywords if(ele in name)]\n",
    "  return bool(res)"
   ]
  },
  {
   "cell_type": "markdown",
   "metadata": {},
   "source": [
    "### **2.4 SCORING**"
   ]
  },
  {
   "cell_type": "code",
   "execution_count": 32,
   "metadata": {},
   "outputs": [],
   "source": [
    "def setY(user):\n",
    "  return 1 if user['is_bot'] == 1 else 0\n",
    "\n",
    "score = pd.DataFrame()\n",
    "score['id'] = accounts['id']"
   ]
  },
  {
   "cell_type": "code",
   "execution_count": 33,
   "metadata": {},
   "outputs": [],
   "source": [
    "Functions = {\n",
    "  # Profiles\n",
    "  #scoringName: 'screen_name',\n",
    "  scoringGeo: 'location',\n",
    "  scoringFollower: 'less_follow',\n",
    "  scoringFavourites: 'less_favourites',\n",
    "  scoringBannerURL: 'banner_link',\n",
    "  #scoringImageURL: 'image_link',\n",
    "  #scoringDefaultImage: 'avatar',\n",
    "  scoringDescription: 'description',\n",
    "  scoringVerified: 'verified',\n",
    "  scoringProtected: 'protected',\n",
    "  scoringFriendsCount: 'friends',\n",
    "\n",
    "  # Account Activities\n",
    "  scoringNoTweets: 'no_tweets',\n",
    "  scoringLessTweets: 'less_tweets',\n",
    "\n",
    "  # Text Mining\n",
    "  scoringBotName: 'bot_name',\n",
    "\n",
    "  # Assign Y\n",
    "  setY: 'is_bot',\n",
    "}"
   ]
  },
  {
   "cell_type": "code",
   "execution_count": 34,
   "metadata": {},
   "outputs": [],
   "source": [
    "for func in Functions.keys():\n",
    "  score[Functions[func]] = accounts.apply(lambda item: func(item), axis = 1)"
   ]
  },
  {
   "cell_type": "code",
   "execution_count": 14,
   "metadata": {},
   "outputs": [],
   "source": [
    "# This One is Computationally Expensive, Best Run it Alone!\n",
    "score['post_alltime'] = accounts.apply(lambda item: scoringPostAllDayNight(item), axis = 1)"
   ]
  },
  {
   "cell_type": "markdown",
   "metadata": {},
   "source": [
    "## **PART 3 - TRAINING DATA**"
   ]
  },
  {
   "cell_type": "markdown",
   "metadata": {},
   "source": [
    "### **3.1 PROCESS & SPLIT DATA**"
   ]
  },
  {
   "cell_type": "code",
   "execution_count": 35,
   "metadata": {},
   "outputs": [],
   "source": [
    "from sklearn.model_selection import KFold\n",
    "\n",
    "new_score = score.copy()\n",
    "del new_score['id']\n",
    "\n",
    "if 'is_bot' in new_score:\n",
    "  y = new_score['is_bot'].values\n",
    "  del new_score['is_bot']\n",
    "  X = new_score.values"
   ]
  },
  {
   "cell_type": "code",
   "execution_count": 36,
   "metadata": {},
   "outputs": [],
   "source": [
    "kf = KFold(n_splits=3, random_state=None)"
   ]
  },
  {
   "cell_type": "markdown",
   "metadata": {},
   "source": [
    "### **3.2 LOGISTIC REGRESSION**"
   ]
  },
  {
   "cell_type": "code",
   "execution_count": 37,
   "metadata": {},
   "outputs": [
    {
     "name": "stdout",
     "output_type": "stream",
     "text": [
      "\n",
      "Confusion Matrix:\n",
      " [[1101   91]\n",
      " [  28 3236]]\n",
      "\n",
      "Accuracy:  0.973294434470377\n",
      "\n",
      "Confusion Matrix:\n",
      " [[1038   91]\n",
      " [  42 3285]]\n",
      "\n",
      "Accuracy:  0.9701526032315978\n",
      "\n",
      "Confusion Matrix:\n",
      " [[1051  102]\n",
      " [  35 3268]]\n",
      "\n",
      "Accuracy:  0.9692549371633752\n"
     ]
    }
   ],
   "source": [
    "from sklearn.linear_model import LogisticRegression\n",
    "from sklearn.metrics import confusion_matrix, classification_report, accuracy_score\n",
    "\n",
    "lr = LogisticRegression(penalty='l2', C=1.0, class_weight=None)\n",
    "\n",
    "for train_index , test_index in kf.split(X):\n",
    "  X_train = X[train_index]\n",
    "  y_train = y[train_index]\n",
    "    \n",
    "  X_test = X[test_index]\n",
    "  y_test = y[test_index]\n",
    "\n",
    "  lr.fit(X_train, y_train)\n",
    "  y_hat = lr.predict(X_test)\n",
    "\n",
    "  print('\\nConfusion Matrix:\\n', confusion_matrix(y_test, y_hat))\n",
    "  print('\\nAccuracy: ', accuracy_score(y_test, y_hat))"
   ]
  },
  {
   "cell_type": "markdown",
   "metadata": {},
   "source": [
    "### **3.3 FEATURE SCALING**"
   ]
  },
  {
   "cell_type": "code",
   "execution_count": 38,
   "metadata": {},
   "outputs": [],
   "source": [
    "from sklearn.preprocessing import StandardScaler\n",
    "\n",
    "scale = StandardScaler().fit(X_train)\n",
    "X_train_scaled = scale.transform(X_train)\n",
    "X_test_scaled = scale.transform(X_test)"
   ]
  },
  {
   "cell_type": "code",
   "execution_count": 39,
   "metadata": {},
   "outputs": [
    {
     "name": "stdout",
     "output_type": "stream",
     "text": [
      "\n",
      "Confusion Matrix:\n",
      " [[1052  101]\n",
      " [  35 3268]]\n",
      "\n",
      "Accuracy:  0.9694793536804309\n"
     ]
    }
   ],
   "source": [
    "lr.fit(X_train_scaled, y_train)\n",
    "y_hat = lr.predict(X_test_scaled)\n",
    "print('\\nConfusion Matrix:\\n', confusion_matrix(y_test, y_hat))\n",
    "print('\\nAccuracy: ', accuracy_score(y_test, y_hat))"
   ]
  },
  {
   "cell_type": "markdown",
   "metadata": {},
   "source": [
    "### **3.4 WEIGHTS ANALYSIS**"
   ]
  },
  {
   "cell_type": "code",
   "execution_count": 40,
   "metadata": {},
   "outputs": [
    {
     "name": "stdout",
     "output_type": "stream",
     "text": [
      "location has weight of 0.20944436549887824\n",
      "less_follow has weight of 0.16616888032859065\n",
      "less_favourites has weight of 2.4180451327671473\n",
      "banner_link has weight of -0.8886271319952118\n",
      "description has weight of -0.13898354328893683\n",
      "verified has weight of -0.20081137388658707\n",
      "protected has weight of 0.5441206437800787\n",
      "friends has weight of 0.3080373721370141\n",
      "no_tweets has weight of 0.2791572547268173\n",
      "less_tweets has weight of 0.8072596975401757\n",
      "bot_name has weight of 0.1386490552193722\n"
     ]
    }
   ],
   "source": [
    "weights = lr.coef_.T\n",
    "variable_names = new_score.columns\n",
    "weight_dic = {}\n",
    "for coef, name in zip(weights, variable_names):\n",
    "  print(name, 'has weight of', coef[0])\n",
    "  weight_dic[name] = coef[0]"
   ]
  },
  {
   "cell_type": "code",
   "execution_count": 41,
   "metadata": {},
   "outputs": [
    {
     "data": {
      "image/png": "[encoded data removed]",
      "text/plain": [
       "<Figure size 1440x432 with 1 Axes>"
      ]
     },
     "metadata": {},
     "output_type": "display_data"
    }
   ],
   "source": [
    "weight_dic.pop(\"is_bot\", None)\n",
    "\n",
    "keys = list(weight_dic.keys())\n",
    "vals = [weight_dic[k] for k in keys]\n",
    "plt.figure(figsize=(20,6))\n",
    "plt.style.use(\"dark_background\")\n",
    "ax = sns.barplot(x = keys, y = vals)\n",
    "ax.set_title('Weights for Each Feature')\n",
    "ax.set_ylabel('Weight')\n",
    "ax.grid(b=True, which='major', color='#d3d3d3', linewidth=1.0)\n",
    "ax.grid(b=True, which='minor', color='#d3d3d3', linewidth=0.5)\n",
    "plt.savefig('./figures/fig6.png', transparent=True)"
   ]
  },
  {
   "cell_type": "markdown",
   "metadata": {},
   "source": [
    "### **3.5 SUPPORT VECTOR MACHINE**"
   ]
  },
  {
   "cell_type": "code",
   "execution_count": 42,
   "metadata": {},
   "outputs": [
    {
     "name": "stdout",
     "output_type": "stream",
     "text": [
      "\n",
      "Confusion Matrix: Support Vector Machine\n",
      " [[1050  103]\n",
      " [  34 3269]]\n",
      "\n",
      "Report: Support Vector Machine\n",
      "               precision    recall  f1-score   support\n",
      "\n",
      "           0       0.97      0.91      0.94      1153\n",
      "           1       0.97      0.99      0.98      3303\n",
      "\n",
      "    accuracy                           0.97      4456\n",
      "   macro avg       0.97      0.95      0.96      4456\n",
      "weighted avg       0.97      0.97      0.97      4456\n",
      "\n"
     ]
    }
   ],
   "source": [
    "from sklearn.svm import SVC\n",
    "\n",
    "svm = SVC(C = 0.5, kernel = 'rbf', degree = 3, gamma = 'auto')\n",
    "svm.fit(X_train_scaled, y_train)\n",
    "\n",
    "y_hat = svm.predict(X_test_scaled)\n",
    "\n",
    "print('\\nConfusion Matrix: Support Vector Machine\\n', confusion_matrix(y_test, y_hat))\n",
    "print('\\nReport: Support Vector Machine\\n', classification_report(y_test, y_hat))"
   ]
  },
  {
   "cell_type": "markdown",
   "metadata": {},
   "source": [
    "## **PART 4 - ENSEMBLE METHODS**"
   ]
  },
  {
   "cell_type": "code",
   "execution_count": 23,
   "metadata": {},
   "outputs": [],
   "source": [
    "from sklearn.ensemble import RandomForestClassifier\n",
    "from sklearn.tree import DecisionTreeClassifier\n",
    "from sklearn.neighbors import KNeighborsClassifier\n",
    "\n",
    "model_1 = LogisticRegression(penalty='l2', C=1.0, class_weight=None)\n",
    "model_2 = SVC(C = 0.5, kernel = 'rbf', degree = 3, gamma = 'auto')\n",
    "model_3 = RandomForestClassifier()\n",
    "model_4 = DecisionTreeClassifier()\n",
    "model_5 = KNeighborsClassifier()\n",
    "\n",
    "models = [('lr',model_1),('svm',model_2),('rf',model_3),('dt',model_4),('knn',model_5)]"
   ]
  },
  {
   "cell_type": "markdown",
   "metadata": {},
   "source": [
    "### **4.1 HARD VOTING**"
   ]
  },
  {
   "cell_type": "code",
   "execution_count": 24,
   "metadata": {},
   "outputs": [],
   "source": [
    "from sklearn.ensemble import VotingClassifier\n",
    "\n",
    "model_mv = VotingClassifier(estimators=models, voting='hard')\n",
    "model_mv.fit(X_train_scaled, y_train)\n",
    "y_hat_mv = model_mv.predict(X_test_scaled)"
   ]
  },
  {
   "cell_type": "code",
   "execution_count": 25,
   "metadata": {},
   "outputs": [
    {
     "name": "stdout",
     "output_type": "stream",
     "text": [
      "\n",
      "Confusion Matrix: Max Voting\n",
      " [[1078   75]\n",
      " [  49 3254]]\n",
      "\n",
      "Report: Max Voting\n",
      "               precision    recall  f1-score   support\n",
      "\n",
      "           0       0.96      0.93      0.95      1153\n",
      "           1       0.98      0.99      0.98      3303\n",
      "\n",
      "    accuracy                           0.97      4456\n",
      "   macro avg       0.97      0.96      0.96      4456\n",
      "weighted avg       0.97      0.97      0.97      4456\n",
      "\n"
     ]
    }
   ],
   "source": [
    "print('\\nConfusion Matrix: Max Voting\\n', confusion_matrix(y_test, y_hat_mv))\n",
    "print('\\nReport: Max Voting\\n', classification_report(y_test, y_hat_mv))"
   ]
  },
  {
   "cell_type": "markdown",
   "metadata": {},
   "source": [
    "### **4.2 Stacking**"
   ]
  },
  {
   "cell_type": "code",
   "execution_count": 26,
   "metadata": {},
   "outputs": [],
   "source": [
    "from sklearn.ensemble import StackingClassifier\n",
    "\n",
    "model_st = StackingClassifier(estimators=models, final_estimator=model_1)\n",
    "model_st.fit(X_train_scaled, y_train)\n",
    "y_hat_st = model_st.predict(X_test_scaled)"
   ]
  },
  {
   "cell_type": "code",
   "execution_count": 27,
   "metadata": {},
   "outputs": [
    {
     "name": "stdout",
     "output_type": "stream",
     "text": [
      "\n",
      "Confusion Matrix: Stacking\n",
      " [[1068   85]\n",
      " [  46 3257]]\n",
      "\n",
      "Report: Stacking\n",
      "               precision    recall  f1-score   support\n",
      "\n",
      "           0       0.96      0.93      0.94      1153\n",
      "           1       0.97      0.99      0.98      3303\n",
      "\n",
      "    accuracy                           0.97      4456\n",
      "   macro avg       0.97      0.96      0.96      4456\n",
      "weighted avg       0.97      0.97      0.97      4456\n",
      "\n"
     ]
    }
   ],
   "source": [
    "print('\\nConfusion Matrix: Stacking\\n', confusion_matrix(y_test, y_hat_st))\n",
    "print('\\nReport: Stacking\\n', classification_report(y_test, y_hat_st))"
   ]
  },
  {
   "cell_type": "markdown",
   "metadata": {},
   "source": [
    "### **4.3 Bagging**"
   ]
  },
  {
   "cell_type": "code",
   "execution_count": 28,
   "metadata": {},
   "outputs": [],
   "source": [
    "from sklearn.ensemble import BaggingRegressor\n",
    "\n",
    "model_bg = BaggingRegressor(base_estimator=model_2)\n",
    "model_bg.fit(X_train_scaled, y_train)\n",
    "y_hat_bg = model_bg.predict(X_test_scaled)\n",
    "y_hat_bg = [int(y_hat_bg) for y_hat_bg in y_hat_bg]"
   ]
  },
  {
   "cell_type": "code",
   "execution_count": 29,
   "metadata": {},
   "outputs": [
    {
     "name": "stdout",
     "output_type": "stream",
     "text": [
      "\n",
      "Confusion Matrix: Bagging\n",
      " [[1072   81]\n",
      " [  46 3257]]\n",
      "\n",
      "Report: Bagging\n",
      "               precision    recall  f1-score   support\n",
      "\n",
      "           0       0.96      0.93      0.94      1153\n",
      "           1       0.98      0.99      0.98      3303\n",
      "\n",
      "    accuracy                           0.97      4456\n",
      "   macro avg       0.97      0.96      0.96      4456\n",
      "weighted avg       0.97      0.97      0.97      4456\n",
      "\n"
     ]
    }
   ],
   "source": [
    "print('\\nConfusion Matrix: Bagging\\n', confusion_matrix(y_test, y_hat_bg))\n",
    "print('\\nReport: Bagging\\n', classification_report(y_test, y_hat_bg))"
   ]
  },
  {
   "cell_type": "markdown",
   "metadata": {},
   "source": [
    "### **4.4 Boosting**"
   ]
  },
  {
   "cell_type": "code",
   "execution_count": 30,
   "metadata": {},
   "outputs": [],
   "source": [
    "from sklearn.ensemble import AdaBoostClassifier\n",
    "\n",
    "model_bo = AdaBoostClassifier()\n",
    "model_bo.fit(X_train_scaled, y_train)\n",
    "y_hat_bo = model_bo.predict(X_test_scaled)"
   ]
  },
  {
   "cell_type": "code",
   "execution_count": 31,
   "metadata": {},
   "outputs": [
    {
     "name": "stdout",
     "output_type": "stream",
     "text": [
      "\n",
      "Confusion Matrix: Boosting\n",
      " [[1050  103]\n",
      " [  32 3271]]\n",
      "\n",
      "Report: Boosting\n",
      "               precision    recall  f1-score   support\n",
      "\n",
      "           0       0.97      0.91      0.94      1153\n",
      "           1       0.97      0.99      0.98      3303\n",
      "\n",
      "    accuracy                           0.97      4456\n",
      "   macro avg       0.97      0.95      0.96      4456\n",
      "weighted avg       0.97      0.97      0.97      4456\n",
      "\n"
     ]
    }
   ],
   "source": [
    "print('\\nConfusion Matrix: Boosting\\n', confusion_matrix(y_test, y_hat_bo))\n",
    "print('\\nReport: Boosting\\n', classification_report(y_test, y_hat_bo))"
   ]
  },
  {
   "cell_type": "markdown",
   "metadata": {},
   "source": [
    "## **PART 5 - UNUSED CODES**"
   ]
  },
  {
   "cell_type": "code",
   "execution_count": null,
   "metadata": {},
   "outputs": [],
   "source": [
    "from sklearn.model_selection import train_test_split\n",
    "\n",
    "new_score = score.drop('id', axis = 1)\n",
    "X_train, X_test, y_train, y_test = train_test_split(new_score, new_score[\"is_bot\"], train_size = 0.6)"
   ]
  },
  {
   "cell_type": "code",
   "execution_count": null,
   "metadata": {},
   "outputs": [],
   "source": [
    "levd = [0,0]\n",
    "count = [0,0]\n",
    "print('START: ', counts[0])\n",
    "for index, row in bot_accounts.iterrows():\n",
    "  print('LOOP: ', counts[0])\n",
    "  result = scoringLevenshtein(row)\n",
    "  if result == 0:\n",
    "    print('END1: ', counts[0])\n",
    "    continue\n",
    "  else:\n",
    "    print('END2: ', counts[0])\n",
    "    levd[0] += result\n",
    "    counts[0] += 1\n",
    "\n",
    "for index, row in genuine.iterrows():\n",
    "  result = scoringLevenshtein(row)\n",
    "  if result == 0:\n",
    "    continue\n",
    "  else:\n",
    "    levd[0] += result\n",
    "    counts[0] += 1\n",
    "\n",
    "average = [levd[0]/counts[0], levd[1]/counts[1]]"
   ]
  }
 ],
 "metadata": {
  "interpreter": {
   "hash": "aee8b7b246df8f9039afb4144a1f6fd8d2ca17a180786b69acc140d282b71a49"
  },
  "kernelspec": {
   "display_name": "Python 3.9.7 64-bit",
   "name": "python3"
  },
  "language_info": {
   "codemirror_mode": {
    "name": "ipython",
    "version": 3
   },
   "file_extension": ".py",
   "mimetype": "text/x-python",
   "name": "python",
   "nbconvert_exporter": "python",
   "pygments_lexer": "ipython3",
   "version": "3.9.7"
  },
  "orig_nbformat": 4
 },
 "nbformat": 4,
 "nbformat_minor": 2
}
