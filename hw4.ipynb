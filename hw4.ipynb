{
  "nbformat": 4,
  "nbformat_minor": 0,
  "metadata": {
    "colab": {
      "name": "hw4.ipynb",
      "provenance": [],
      "collapsed_sections": [],
      "authorship_tag": "ABX9TyPm3XKfefnZhj/FUWFc9gqi",
      "include_colab_link": true
    },
    "kernelspec": {
      "name": "python3",
      "display_name": "Python 3"
    },
    "language_info": {
      "name": "python"
    }
  },
  "cells": [
    {
      "cell_type": "markdown",
      "metadata": {
        "id": "view-in-github",
        "colab_type": "text"
      },
      "source": [
        "<a href=\"https://colab.research.google.com/github/elio-li/CSCI4964/blob/main/hw4.ipynb\" target=\"_parent\"><img src=\"https://colab.research.google.com/assets/colab-badge.svg\" alt=\"Open In Colab\"/></a>"
      ]
    },
    {
      "cell_type": "markdown",
      "metadata": {
        "id": "Yl2RxBDTH0-K"
      },
      "source": [
        "# **Homework 4**\n"
      ]
    },
    {
      "cell_type": "markdown",
      "metadata": {
        "id": "aw-iqLfLH8Xd"
      },
      "source": [
        "## **Task 1**\n",
        "\n",
        "Data Set: <https://www.kaggle.com/mczielinski/bitcoin-historical-data>.\n",
        "\n",
        "I would like to calculate the Bitcoin price based on features like open, high, close, etc. Sequence Models is best to solve this problem since the data is temporal information and the structure of a cyclic neural network can be useful on time sensitive data like this."
      ]
    },
    {
      "cell_type": "code",
      "metadata": {
        "id": "-ah5cRbfIFnH"
      },
      "source": [
        "# Import\n",
        "import numpy as np\n",
        "import pandas as pd\n",
        "import matplotlib.pyplot as plt\n",
        "from tensorflow import keras\n",
        "import tensorflow as tf"
      ],
      "execution_count": 80,
      "outputs": []
    },
    {
      "cell_type": "code",
      "metadata": {
        "colab": {
          "base_uri": "https://localhost:8080/",
          "height": 204
        },
        "id": "wwqZzluYIczV",
        "outputId": "9d5a478f-104f-4112-a869-74b06f17081d"
      },
      "source": [
        "# Read File\n",
        "df = pd.read_csv(\"bitcoin.csv\")\n",
        "df.head(5)"
      ],
      "execution_count": 98,
      "outputs": [
        {
          "output_type": "execute_result",
          "data": {
            "text/html": [
              "<div>\n",
              "<style scoped>\n",
              "    .dataframe tbody tr th:only-of-type {\n",
              "        vertical-align: middle;\n",
              "    }\n",
              "\n",
              "    .dataframe tbody tr th {\n",
              "        vertical-align: top;\n",
              "    }\n",
              "\n",
              "    .dataframe thead th {\n",
              "        text-align: right;\n",
              "    }\n",
              "</style>\n",
              "<table border=\"1\" class=\"dataframe\">\n",
              "  <thead>\n",
              "    <tr style=\"text-align: right;\">\n",
              "      <th></th>\n",
              "      <th>Timestamp</th>\n",
              "      <th>Open</th>\n",
              "      <th>High</th>\n",
              "      <th>Low</th>\n",
              "      <th>Close</th>\n",
              "      <th>Volume_(BTC)</th>\n",
              "      <th>Volume_(Currency)</th>\n",
              "      <th>Weighted_Price</th>\n",
              "    </tr>\n",
              "  </thead>\n",
              "  <tbody>\n",
              "    <tr>\n",
              "      <th>0</th>\n",
              "      <td>1325317920</td>\n",
              "      <td>4.39</td>\n",
              "      <td>4.39</td>\n",
              "      <td>4.39</td>\n",
              "      <td>4.39</td>\n",
              "      <td>0.455581</td>\n",
              "      <td>2.0</td>\n",
              "      <td>4.39</td>\n",
              "    </tr>\n",
              "    <tr>\n",
              "      <th>1</th>\n",
              "      <td>1325317980</td>\n",
              "      <td>NaN</td>\n",
              "      <td>NaN</td>\n",
              "      <td>NaN</td>\n",
              "      <td>NaN</td>\n",
              "      <td>NaN</td>\n",
              "      <td>NaN</td>\n",
              "      <td>NaN</td>\n",
              "    </tr>\n",
              "    <tr>\n",
              "      <th>2</th>\n",
              "      <td>1325318040</td>\n",
              "      <td>NaN</td>\n",
              "      <td>NaN</td>\n",
              "      <td>NaN</td>\n",
              "      <td>NaN</td>\n",
              "      <td>NaN</td>\n",
              "      <td>NaN</td>\n",
              "      <td>NaN</td>\n",
              "    </tr>\n",
              "    <tr>\n",
              "      <th>3</th>\n",
              "      <td>1325318100</td>\n",
              "      <td>NaN</td>\n",
              "      <td>NaN</td>\n",
              "      <td>NaN</td>\n",
              "      <td>NaN</td>\n",
              "      <td>NaN</td>\n",
              "      <td>NaN</td>\n",
              "      <td>NaN</td>\n",
              "    </tr>\n",
              "    <tr>\n",
              "      <th>4</th>\n",
              "      <td>1325318160</td>\n",
              "      <td>NaN</td>\n",
              "      <td>NaN</td>\n",
              "      <td>NaN</td>\n",
              "      <td>NaN</td>\n",
              "      <td>NaN</td>\n",
              "      <td>NaN</td>\n",
              "      <td>NaN</td>\n",
              "    </tr>\n",
              "  </tbody>\n",
              "</table>\n",
              "</div>"
            ],
            "text/plain": [
              "    Timestamp  Open  High  ...  Volume_(BTC)  Volume_(Currency)  Weighted_Price\n",
              "0  1325317920  4.39  4.39  ...      0.455581                2.0            4.39\n",
              "1  1325317980   NaN   NaN  ...           NaN                NaN             NaN\n",
              "2  1325318040   NaN   NaN  ...           NaN                NaN             NaN\n",
              "3  1325318100   NaN   NaN  ...           NaN                NaN             NaN\n",
              "4  1325318160   NaN   NaN  ...           NaN                NaN             NaN\n",
              "\n",
              "[5 rows x 8 columns]"
            ]
          },
          "metadata": {},
          "execution_count": 98
        }
      ]
    },
    {
      "cell_type": "code",
      "metadata": {
        "colab": {
          "base_uri": "https://localhost:8080/",
          "height": 204
        },
        "id": "uf5e4RZg_tfV",
        "outputId": "85abff22-2432-445b-afd5-ab8bc292b4db"
      },
      "source": [
        "# Clean up the data\n",
        "df_dropna = df.dropna()\n",
        "df_dropna.head(5)"
      ],
      "execution_count": 99,
      "outputs": [
        {
          "output_type": "execute_result",
          "data": {
            "text/html": [
              "<div>\n",
              "<style scoped>\n",
              "    .dataframe tbody tr th:only-of-type {\n",
              "        vertical-align: middle;\n",
              "    }\n",
              "\n",
              "    .dataframe tbody tr th {\n",
              "        vertical-align: top;\n",
              "    }\n",
              "\n",
              "    .dataframe thead th {\n",
              "        text-align: right;\n",
              "    }\n",
              "</style>\n",
              "<table border=\"1\" class=\"dataframe\">\n",
              "  <thead>\n",
              "    <tr style=\"text-align: right;\">\n",
              "      <th></th>\n",
              "      <th>Timestamp</th>\n",
              "      <th>Open</th>\n",
              "      <th>High</th>\n",
              "      <th>Low</th>\n",
              "      <th>Close</th>\n",
              "      <th>Volume_(BTC)</th>\n",
              "      <th>Volume_(Currency)</th>\n",
              "      <th>Weighted_Price</th>\n",
              "    </tr>\n",
              "  </thead>\n",
              "  <tbody>\n",
              "    <tr>\n",
              "      <th>0</th>\n",
              "      <td>1325317920</td>\n",
              "      <td>4.39</td>\n",
              "      <td>4.39</td>\n",
              "      <td>4.39</td>\n",
              "      <td>4.39</td>\n",
              "      <td>0.455581</td>\n",
              "      <td>2.000000</td>\n",
              "      <td>4.390000</td>\n",
              "    </tr>\n",
              "    <tr>\n",
              "      <th>478</th>\n",
              "      <td>1325346600</td>\n",
              "      <td>4.39</td>\n",
              "      <td>4.39</td>\n",
              "      <td>4.39</td>\n",
              "      <td>4.39</td>\n",
              "      <td>48.000000</td>\n",
              "      <td>210.720000</td>\n",
              "      <td>4.390000</td>\n",
              "    </tr>\n",
              "    <tr>\n",
              "      <th>547</th>\n",
              "      <td>1325350740</td>\n",
              "      <td>4.50</td>\n",
              "      <td>4.57</td>\n",
              "      <td>4.50</td>\n",
              "      <td>4.57</td>\n",
              "      <td>37.862297</td>\n",
              "      <td>171.380338</td>\n",
              "      <td>4.526411</td>\n",
              "    </tr>\n",
              "    <tr>\n",
              "      <th>548</th>\n",
              "      <td>1325350800</td>\n",
              "      <td>4.58</td>\n",
              "      <td>4.58</td>\n",
              "      <td>4.58</td>\n",
              "      <td>4.58</td>\n",
              "      <td>9.000000</td>\n",
              "      <td>41.220000</td>\n",
              "      <td>4.580000</td>\n",
              "    </tr>\n",
              "    <tr>\n",
              "      <th>1224</th>\n",
              "      <td>1325391360</td>\n",
              "      <td>4.58</td>\n",
              "      <td>4.58</td>\n",
              "      <td>4.58</td>\n",
              "      <td>4.58</td>\n",
              "      <td>1.502000</td>\n",
              "      <td>6.879160</td>\n",
              "      <td>4.580000</td>\n",
              "    </tr>\n",
              "  </tbody>\n",
              "</table>\n",
              "</div>"
            ],
            "text/plain": [
              "       Timestamp  Open  High  ...  Volume_(BTC)  Volume_(Currency)  Weighted_Price\n",
              "0     1325317920  4.39  4.39  ...      0.455581           2.000000        4.390000\n",
              "478   1325346600  4.39  4.39  ...     48.000000         210.720000        4.390000\n",
              "547   1325350740  4.50  4.57  ...     37.862297         171.380338        4.526411\n",
              "548   1325350800  4.58  4.58  ...      9.000000          41.220000        4.580000\n",
              "1224  1325391360  4.58  4.58  ...      1.502000           6.879160        4.580000\n",
              "\n",
              "[5 rows x 8 columns]"
            ]
          },
          "metadata": {},
          "execution_count": 99
        }
      ]
    },
    {
      "cell_type": "code",
      "metadata": {
        "colab": {
          "base_uri": "https://localhost:8080/",
          "height": 204
        },
        "id": "t2IuNIpytQqe",
        "outputId": "f3f4975c-25f1-45b6-eb05-83f678ffaec0"
      },
      "source": [
        "# Get only a small chunck of the data\n",
        "df_latest = df_dropna[df_dropna['Timestamp'] > (df_dropna['Timestamp'].max()-500000)]\n",
        "df_latest.head(5)"
      ],
      "execution_count": 100,
      "outputs": [
        {
          "output_type": "execute_result",
          "data": {
            "text/html": [
              "<div>\n",
              "<style scoped>\n",
              "    .dataframe tbody tr th:only-of-type {\n",
              "        vertical-align: middle;\n",
              "    }\n",
              "\n",
              "    .dataframe tbody tr th {\n",
              "        vertical-align: top;\n",
              "    }\n",
              "\n",
              "    .dataframe thead th {\n",
              "        text-align: right;\n",
              "    }\n",
              "</style>\n",
              "<table border=\"1\" class=\"dataframe\">\n",
              "  <thead>\n",
              "    <tr style=\"text-align: right;\">\n",
              "      <th></th>\n",
              "      <th>Timestamp</th>\n",
              "      <th>Open</th>\n",
              "      <th>High</th>\n",
              "      <th>Low</th>\n",
              "      <th>Close</th>\n",
              "      <th>Volume_(BTC)</th>\n",
              "      <th>Volume_(Currency)</th>\n",
              "      <th>Weighted_Price</th>\n",
              "    </tr>\n",
              "  </thead>\n",
              "  <tbody>\n",
              "    <tr>\n",
              "      <th>4849043</th>\n",
              "      <td>1616648820</td>\n",
              "      <td>52411.95</td>\n",
              "      <td>52417.16</td>\n",
              "      <td>52313.93</td>\n",
              "      <td>52325.10</td>\n",
              "      <td>8.184717</td>\n",
              "      <td>428342.104410</td>\n",
              "      <td>52334.383591</td>\n",
              "    </tr>\n",
              "    <tr>\n",
              "      <th>4849044</th>\n",
              "      <td>1616648880</td>\n",
              "      <td>52350.85</td>\n",
              "      <td>52364.25</td>\n",
              "      <td>52318.79</td>\n",
              "      <td>52356.78</td>\n",
              "      <td>0.724648</td>\n",
              "      <td>37921.236565</td>\n",
              "      <td>52330.549717</td>\n",
              "    </tr>\n",
              "    <tr>\n",
              "      <th>4849045</th>\n",
              "      <td>1616648940</td>\n",
              "      <td>52356.76</td>\n",
              "      <td>52356.76</td>\n",
              "      <td>52333.24</td>\n",
              "      <td>52345.80</td>\n",
              "      <td>1.719945</td>\n",
              "      <td>90030.498364</td>\n",
              "      <td>52344.982259</td>\n",
              "    </tr>\n",
              "    <tr>\n",
              "      <th>4849046</th>\n",
              "      <td>1616649000</td>\n",
              "      <td>52410.90</td>\n",
              "      <td>52450.00</td>\n",
              "      <td>52410.90</td>\n",
              "      <td>52450.00</td>\n",
              "      <td>0.793599</td>\n",
              "      <td>41605.741770</td>\n",
              "      <td>52426.644103</td>\n",
              "    </tr>\n",
              "    <tr>\n",
              "      <th>4849047</th>\n",
              "      <td>1616649060</td>\n",
              "      <td>52450.00</td>\n",
              "      <td>52476.36</td>\n",
              "      <td>52436.61</td>\n",
              "      <td>52436.61</td>\n",
              "      <td>1.688523</td>\n",
              "      <td>88581.089260</td>\n",
              "      <td>52460.691704</td>\n",
              "    </tr>\n",
              "  </tbody>\n",
              "</table>\n",
              "</div>"
            ],
            "text/plain": [
              "          Timestamp      Open  ...  Volume_(Currency)  Weighted_Price\n",
              "4849043  1616648820  52411.95  ...      428342.104410    52334.383591\n",
              "4849044  1616648880  52350.85  ...       37921.236565    52330.549717\n",
              "4849045  1616648940  52356.76  ...       90030.498364    52344.982259\n",
              "4849046  1616649000  52410.90  ...       41605.741770    52426.644103\n",
              "4849047  1616649060  52450.00  ...       88581.089260    52460.691704\n",
              "\n",
              "[5 rows x 8 columns]"
            ]
          },
          "metadata": {},
          "execution_count": 100
        }
      ]
    },
    {
      "cell_type": "code",
      "metadata": {
        "colab": {
          "base_uri": "https://localhost:8080/"
        },
        "id": "omyt_HSO1ISQ",
        "outputId": "15f2037a-235b-4838-99b4-a613ad81e6ba"
      },
      "source": [
        "# remove timestamp\n",
        "df_choose = df_latest.drop(['Timestamp'], axis = 1)\n",
        "x = np.array(df_choose.drop(['Weighted_Price'], axis = 1))\n",
        "y = np.array(df_choose['Weighted_Price'])\n",
        "print(x.shape)\n",
        "print(y.shape)"
      ],
      "execution_count": 101,
      "outputs": [
        {
          "output_type": "stream",
          "name": "stdout",
          "text": [
            "(8306, 6)\n",
            "(8306,)\n"
          ]
        }
      ]
    },
    {
      "cell_type": "code",
      "metadata": {
        "id": "yuCMMIEbIcqM"
      },
      "source": [
        "# Scale the data\n",
        "from sklearn.preprocessing import StandardScaler\n",
        "x = StandardScaler().fit_transform(x)\n",
        "y = (StandardScaler().fit_transform(np.reshape(y, (-1,1)))).reshape(-1)"
      ],
      "execution_count": 102,
      "outputs": []
    },
    {
      "cell_type": "code",
      "metadata": {
        "id": "SA7K31DzJjvj"
      },
      "source": [
        "x_totl = []\n",
        "y_totl = []\n",
        "for i in range(500, x.shape[0]) :\n",
        "    x_totl.append(x[i - 500: i])\n",
        "    y_totl.append(y[i])\n",
        "x = np.array(x_totl)\n",
        "y = np.array(y_totl)"
      ],
      "execution_count": 103,
      "outputs": []
    },
    {
      "cell_type": "code",
      "metadata": {
        "id": "nwgKns2GJkU_"
      },
      "source": [
        "from sklearn.model_selection import train_test_split\n",
        "x_train, x_test, y_train, y_test = train_test_split(x, y, test_size = 0.2, random_state = 1)"
      ],
      "execution_count": 104,
      "outputs": []
    },
    {
      "cell_type": "markdown",
      "metadata": {
        "id": "pcf8wL5CIEIJ"
      },
      "source": [
        "### **Part 1**"
      ]
    },
    {
      "cell_type": "markdown",
      "metadata": {
        "id": "dNWbVHTfmoiZ"
      },
      "source": [
        "The RNN consists of a RNN layer as the start layer, and then all the layers still the final layer are dense layer, I used tanh as the activation function since relu produces higher loss than tanh, the final layer is linear because this is a regression problem instead of a classification problem which softmax didn't worked really well.\n",
        "\n",
        "Matrics I used for this problem is Mean Square Error."
      ]
    },
    {
      "cell_type": "code",
      "metadata": {
        "id": "aXxhV_YFKNTN"
      },
      "source": [
        "from keras.models import Sequential\n",
        "from keras.layers import LSTM\n",
        "from keras.layers import Dense\n",
        "from keras.layers import SimpleRNN"
      ],
      "execution_count": 47,
      "outputs": []
    },
    {
      "cell_type": "code",
      "metadata": {
        "id": "MFE6vRTVLAWG"
      },
      "source": [
        "model = Sequential([\n",
        "  SimpleRNN(10, activation='tanh', return_sequences=False),\n",
        "  Dense(128, activation='tanh'),\n",
        "  Dense(1, activation='linear'),\n",
        "])\n",
        "\n",
        "model.compile(loss = 'mean_squared_error', optimizer = 'adam')"
      ],
      "execution_count": 109,
      "outputs": []
    },
    {
      "cell_type": "code",
      "metadata": {
        "colab": {
          "base_uri": "https://localhost:8080/"
        },
        "id": "47Aq6q5CKZjS",
        "outputId": "d72a5a88-bf8e-45cb-8c90-9252a8d3243e"
      },
      "source": [
        "model.fit(x_train, y_train, batch_size = 32, epochs = 10, validation_data = (x_test, y_test))"
      ],
      "execution_count": 110,
      "outputs": [
        {
          "output_type": "stream",
          "name": "stdout",
          "text": [
            "Epoch 1/10\n",
            "196/196 [==============================] - 15s 75ms/step - loss: 0.0994 - val_loss: 0.0207\n",
            "Epoch 2/10\n",
            "196/196 [==============================] - 14s 73ms/step - loss: 0.0140 - val_loss: 0.0096\n",
            "Epoch 3/10\n",
            "196/196 [==============================] - 14s 72ms/step - loss: 0.0071 - val_loss: 0.0057\n",
            "Epoch 4/10\n",
            "196/196 [==============================] - 14s 73ms/step - loss: 0.0045 - val_loss: 0.0037\n",
            "Epoch 5/10\n",
            "196/196 [==============================] - 15s 75ms/step - loss: 0.0031 - val_loss: 0.0029\n",
            "Epoch 6/10\n",
            "196/196 [==============================] - 14s 72ms/step - loss: 0.0024 - val_loss: 0.0022\n",
            "Epoch 7/10\n",
            "196/196 [==============================] - 14s 73ms/step - loss: 0.0020 - val_loss: 0.0019\n",
            "Epoch 8/10\n",
            "196/196 [==============================] - 15s 75ms/step - loss: 0.0017 - val_loss: 0.0019\n",
            "Epoch 9/10\n",
            "196/196 [==============================] - 14s 73ms/step - loss: 0.0016 - val_loss: 0.0017\n",
            "Epoch 10/10\n",
            "196/196 [==============================] - 14s 74ms/step - loss: 0.0015 - val_loss: 0.0014\n"
          ]
        },
        {
          "output_type": "execute_result",
          "data": {
            "text/plain": [
              "<keras.callbacks.History at 0x7f2307ae4290>"
            ]
          },
          "metadata": {},
          "execution_count": 110
        }
      ]
    },
    {
      "cell_type": "code",
      "metadata": {
        "colab": {
          "base_uri": "https://localhost:8080/"
        },
        "id": "XISPhcl9cV7b",
        "outputId": "ff96c574-304b-4ad5-d121-745e08ed5730"
      },
      "source": [
        "print(\"Mean Square Error is: \", model.evaluate(x_test, y_test, verbose=0))"
      ],
      "execution_count": 111,
      "outputs": [
        {
          "output_type": "stream",
          "name": "stdout",
          "text": [
            "Mean Square Error is:  0.0014183245366439223\n"
          ]
        }
      ]
    },
    {
      "cell_type": "markdown",
      "metadata": {
        "id": "J9ws-oO2EMCy"
      },
      "source": [
        "### **Part 2**"
      ]
    },
    {
      "cell_type": "code",
      "metadata": {
        "id": "JT89YjHznqxe"
      },
      "source": [
        "model = Sequential([\n",
        "  LSTM(10, activation='tanh', return_sequences=False),\n",
        "  Dense(128, activation='tanh'),\n",
        "  Dense(1, activation='linear'),\n",
        "])\n",
        "\n",
        "model.compile(loss = 'mean_squared_error', optimizer = 'adam')"
      ],
      "execution_count": 112,
      "outputs": []
    },
    {
      "cell_type": "code",
      "metadata": {
        "colab": {
          "base_uri": "https://localhost:8080/"
        },
        "id": "o5xLrijEn8vS",
        "outputId": "ad6b5470-8ad3-4a84-8f19-dd18abb27be7"
      },
      "source": [
        "model.fit(x_train, y_train, batch_size = 32, epochs = 10, validation_data = (x_test, y_test))"
      ],
      "execution_count": 113,
      "outputs": [
        {
          "output_type": "stream",
          "name": "stdout",
          "text": [
            "Epoch 1/10\n",
            "196/196 [==============================] - 30s 144ms/step - loss: 0.1003 - val_loss: 0.0044\n",
            "Epoch 2/10\n",
            "196/196 [==============================] - 28s 141ms/step - loss: 0.0026 - val_loss: 0.0018\n",
            "Epoch 3/10\n",
            "196/196 [==============================] - 28s 142ms/step - loss: 0.0018 - val_loss: 0.0017\n",
            "Epoch 4/10\n",
            "196/196 [==============================] - 28s 140ms/step - loss: 0.0014 - val_loss: 0.0012\n",
            "Epoch 5/10\n",
            "196/196 [==============================] - 28s 141ms/step - loss: 0.0013 - val_loss: 0.0011\n",
            "Epoch 6/10\n",
            "196/196 [==============================] - 28s 141ms/step - loss: 0.0011 - val_loss: 0.0010\n",
            "Epoch 7/10\n",
            "196/196 [==============================] - 28s 143ms/step - loss: 0.0010 - val_loss: 0.0013\n",
            "Epoch 8/10\n",
            "196/196 [==============================] - 28s 142ms/step - loss: 0.0010 - val_loss: 0.0010\n",
            "Epoch 9/10\n",
            "196/196 [==============================] - 28s 142ms/step - loss: 8.7241e-04 - val_loss: 0.0011\n",
            "Epoch 10/10\n",
            "196/196 [==============================] - 28s 142ms/step - loss: 8.7064e-04 - val_loss: 9.7263e-04\n"
          ]
        },
        {
          "output_type": "execute_result",
          "data": {
            "text/plain": [
              "<keras.callbacks.History at 0x7f23191a7f10>"
            ]
          },
          "metadata": {},
          "execution_count": 113
        }
      ]
    },
    {
      "cell_type": "markdown",
      "metadata": {
        "id": "DWrzvuf5pHLK"
      },
      "source": [
        "We can see the mean square error looks very similar with each other on the first iterations, and after that, the loss in the second iteration in LSTM dropped significantly in terms of the rnn model, and the final the error in LSTM is significantly less than RNN."
      ]
    },
    {
      "cell_type": "markdown",
      "metadata": {
        "id": "fV5DOWjHEOlK"
      },
      "source": [
        "## **Task 2**"
      ]
    },
    {
      "cell_type": "markdown",
      "metadata": {
        "id": "UvXTgJL11JC-"
      },
      "source": [
        "Data Set Link: <https://tfhub.dev/google/Wiki-words-500/2>\n",
        "\n",
        "These Resources are Used for this Task:\n",
        "- <https://www.gcptutorials.com/post/sentence-similarity-using-tensorflow-pre-trained-models>\n",
        "- <https://clay-atlas.com/us/blog/2020/03/27/cosine-similarity-text-calculate-python/>"
      ]
    },
    {
      "cell_type": "code",
      "metadata": {
        "id": "jc9iVGng6Fhd"
      },
      "source": [
        "import tensorflow_hub as hub\n",
        "\n",
        "embed = hub.load(\"https://tfhub.dev/google/Wiki-words-500/2\")"
      ],
      "execution_count": 123,
      "outputs": []
    },
    {
      "cell_type": "code",
      "metadata": {
        "colab": {
          "base_uri": "https://localhost:8080/"
        },
        "id": "quKE2vKF-Df9",
        "outputId": "03529eaa-a76b-4d0f-85b5-786b28c97a4b"
      },
      "source": [
        "word_1 = str(input())\n",
        "word_2 = str(input())\n",
        "\n",
        "vec_a, vec_b = embed([word_1])[0].numpy(), embed([word_2])[0].numpy()\n",
        "\n",
        "dot = sum(a*b for a, b in zip(vec_a, vec_b))\n",
        "norm_a = sum(a*a for a in vec_a) ** 0.5\n",
        "norm_b = sum(b*b for b in vec_b) ** 0.5\n",
        "\n",
        "similarity = dot / (norm_a*norm_b)\n",
        "print(\"Similarit\\y: \", similarity)\n",
        "print(\"Dissimilarity: \", 1 - similarity)"
      ],
      "execution_count": 156,
      "outputs": [
        {
          "output_type": "stream",
          "name": "stdout",
          "text": [
            "dog\n",
            "pet\n",
            "Similarity:  0.7941820975286606\n",
            "Dissimilarity:  0.20581790247133935\n"
          ]
        }
      ]
    },
    {
      "cell_type": "markdown",
      "metadata": {
        "id": "TyVSxHtGA6yq"
      },
      "source": [
        "I've tried to find for a dissimilarity measure but sofar I haven't found a really good one, I tried to use [Bray-Curtis dissimilarity](http://www.econ.upf.edu/~michael/stanford/maeb5.pdf) but since there're negative values in the data so I can't calculate the sum of the vector. I've also found [unalikeability coefficient](https://www.amstat.org//publications/jse/v15n2/kader.html) but seems like the algorithm only works on the vector itself.\n",
        "\n",
        "Thus I'll simply use 1 - cosine similarity as the dissimilarity because it make sense since the oposite of similarity is the dissimilarity so the dissimilarity can be the inverse of cosine similarity.\n",
        "\n",
        "- Results\n",
        "\n",
        "| Word A | Word B | Cosine Similarity | Cosine Dissimilarity |\n",
        "| ------ | ------ | ----------------- | -------------------- |\n",
        "| Human | Computer | 0.2207 | 0.7793 |\n",
        "| Alpha | Beta | 0.9348 | 0.0652 |\n",
        "| Mom | Dad | 0.7448 | 0.2552 |\n",
        "| Apple | Fruit | 0.2995 | 0.7005 |"
      ]
    }
  ]
}