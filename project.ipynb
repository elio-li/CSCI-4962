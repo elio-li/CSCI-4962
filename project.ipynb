{
 "cells": [
  {
   "cell_type": "markdown",
   "metadata": {},
   "source": [
    "# **Final Project: Twitter Bot Detection**\n",
    "\n",
    "*For details pls check the project report\n",
    "\n",
    "## **PART 1 - Dataset**\n",
    "\n",
    "### **1.1 Description**"
   ]
  },
  {
   "cell_type": "code",
   "execution_count": 1,
   "metadata": {},
   "outputs": [],
   "source": [
    "import random, itertools, traceback\n",
    "import numpy as np\n",
    "import pandas as pd\n",
    "import imblearn as ibl\n",
    "import seaborn as sns\n",
    "import matplotlib.pyplot as plt"
   ]
  },
  {
   "cell_type": "code",
   "execution_count": 143,
   "metadata": {},
   "outputs": [],
   "source": [
    "from sklearn.utils import shuffle\n",
    "\n",
    "# Accounts\n",
    "fake = pd.read_csv(\"./dataset/fake/users.csv\")\n",
    "genuine = pd.read_csv(\"./dataset/genuine/users.csv\")\n",
    "social1 = pd.read_csv(\"./dataset/social1/users.csv\")\n",
    "social2 = pd.read_csv(\"./dataset/social2/users.csv\")\n",
    "social3 = pd.read_csv(\"./dataset/social3/users.csv\")\n",
    "traditional2 = pd.read_csv(\"./dataset/traditional2/users.csv\")\n",
    "traditional3 = pd.read_csv(\"./dataset/traditional3/users.csv\")\n",
    "traditional4 = pd.read_csv(\"./dataset/traditional4/users.csv\")\n",
    "\n",
    "# Concatenate All Dataframe as One\n",
    "social = pd.concat([social1, social2, social3])\n",
    "traditional = pd.concat([traditional2, traditional3, traditional4])\n",
    "bot_accounts = pd.concat([social, traditional, fake])\n",
    "bots_no_trad = pd.concat([social, fake])\n",
    "\n",
    "bot_accounts['is_bot'] = 1\n",
    "bots_no_trad['is_bot'] = 1\n",
    "genuine['is_bot'] = 0\n",
    "\n",
    "accounts = pd.concat([bot_accounts, genuine])\n",
    "accounts = shuffle(accounts)\n",
    "accounts = accounts.fillna('')\n",
    "\n",
    "accounts_no_trad = pd.concat([bots_no_trad, genuine])\n",
    "accounts_no_trad = shuffle(accounts_no_trad)\n",
    "accounts_no_trad = accounts_no_trad.fillna('')"
   ]
  },
  {
   "cell_type": "code",
   "execution_count": 144,
   "metadata": {},
   "outputs": [
    {
     "name": "stderr",
     "output_type": "stream",
     "text": [
      "/usr/local/lib/python3.9/site-packages/IPython/core/interactiveshell.py:3444: DtypeWarning: Columns (8,11) have mixed types.Specify dtype option on import or set low_memory=False.\n",
      "  exec(code_obj, self.user_global_ns, self.user_ns)\n",
      "/usr/local/lib/python3.9/site-packages/IPython/core/interactiveshell.py:3444: DtypeWarning: Columns (0) have mixed types.Specify dtype option on import or set low_memory=False.\n",
      "  exec(code_obj, self.user_global_ns, self.user_ns)\n",
      "/usr/local/lib/python3.9/site-packages/IPython/core/interactiveshell.py:3444: DtypeWarning: Columns (10) have mixed types.Specify dtype option on import or set low_memory=False.\n",
      "  exec(code_obj, self.user_global_ns, self.user_ns)\n",
      "/usr/local/lib/python3.9/site-packages/IPython/core/interactiveshell.py:3444: DtypeWarning: Columns (7,10) have mixed types.Specify dtype option on import or set low_memory=False.\n",
      "  exec(code_obj, self.user_global_ns, self.user_ns)\n"
     ]
    }
   ],
   "source": [
    "# Tweets\n",
    "fake_t = pd.read_csv(\"./dataset/fake/tweets.csv\", encoding='latin-1')\n",
    "genuine_t = pd.read_csv(\"./dataset/genuine/tweets.csv\", encoding='latin-1')\n",
    "social1_t = pd.read_csv(\"./dataset/social1/tweets.csv\", encoding='latin-1')\n",
    "social2_t = pd.read_csv(\"./dataset/social2/tweets.csv\", encoding='latin-1')\n",
    "social3_t = pd.read_csv(\"./dataset/social3/tweets.csv\", encoding='latin-1')\n",
    "\n",
    "# Concatenate All Dataframe as One\n",
    "social_t = pd.concat([social1_t, social2_t, social3_t])\n",
    "bot_accounts_t = pd.concat([social_t, fake_t])\n",
    "\n",
    "bot_accounts_t['is_bot'] = 1\n",
    "genuine_t['is_bot'] = 0\n",
    "genuine_t = genuine_t[genuine_t['user_id'].notna()]\n",
    "genuine_t['user_id'].astype('int64')\n",
    "\n",
    "tweets = pd.concat([bot_accounts_t, genuine_t])\n",
    "tweets = shuffle(tweets)\n",
    "tweets = tweets.fillna('')\n",
    "\n",
    "tweets['time'] = pd.to_datetime(tweets['timestamp']).dt.time\n",
    "tweets['time'] = pd.to_timedelta(tweets.time.astype(str))"
   ]
  },
  {
   "cell_type": "markdown",
   "metadata": {},
   "source": [
    "### **1.2 Statistics**\n",
    "\n",
    "**images are in project reports*"
   ]
  },
  {
   "cell_type": "code",
   "execution_count": null,
   "metadata": {},
   "outputs": [],
   "source": [
    "\"\"\"Number of Twitter Accounts Per Dataset\"\"\"\n",
    "\n",
    "sns.set_style(\"whitegrid\")\n",
    "num_accounts = {'Fake': len(fake.index), 'Human': len(genuine.index), 'Political': len(social1.index),\n",
    "                'Apps Promo': len(social2.index), 'Amazon': len(social3.index), 'Scam URL': len(traditional2.index),\n",
    "                'Job Offers1': len(traditional3.index), 'Job Offers2': len(traditional4.index)}"
   ]
  },
  {
   "cell_type": "code",
   "execution_count": null,
   "metadata": {},
   "outputs": [],
   "source": [
    "\"\"\"Average Number of Followers Per Account Per Dataset\"\"\"\n",
    "\n",
    "avg_followers = {'Fake': fake[\"followers_count\"].sum()/len(fake.index), 'Human': genuine[\"followers_count\"].sum()/len(genuine.index),\n",
    "                'Political': social1[\"followers_count\"].sum()/len(social1.index), 'Apps Promo': social2[\"followers_count\"].sum()/len(social2.index),\n",
    "                'Amazon': social3[\"followers_count\"].sum()/len(social3.index), 'Scam URL': traditional2[\"followers_count\"].sum()/len(traditional2.index),\n",
    "                'Job Offers1': traditional3[\"followers_count\"].sum()/len(traditional3.index),\n",
    "                'Job Offers2': traditional4[\"followers_count\"].sum()/len(traditional4.index)}"
   ]
  },
  {
   "cell_type": "code",
   "execution_count": null,
   "metadata": {},
   "outputs": [],
   "source": [
    "\"\"\"Average Number of Friends Per Account Per Dataset\"\"\"\n",
    "\n",
    "avg_friends = {'Fake': fake[\"friends_count\"].sum()/len(fake.index), 'Human': genuine[\"friends_count\"].sum()/len(genuine.index),\n",
    "                'Political': social1[\"friends_count\"].sum()/len(social1.index), 'Apps Promo': social2[\"friends_count\"].sum()/len(social2.index),\n",
    "                'Amazon': social3[\"friends_count\"].sum()/len(social3.index), 'Scam URL': traditional2[\"friends_count\"].sum()/len(traditional2.index),\n",
    "                'Job Offers1': traditional3[\"friends_count\"].sum()/len(traditional3.index),\n",
    "                'Job Offers2': traditional4[\"friends_count\"].sum()/len(traditional4.index)}"
   ]
  },
  {
   "cell_type": "code",
   "execution_count": null,
   "metadata": {},
   "outputs": [],
   "source": [
    "\"\"\"Average Number of Tweets Per Account Per Dataset\"\"\"\n",
    "\n",
    "avg_tweets = {'Fake': fake[\"statuses_count\"].sum()/len(fake.index), 'Human': genuine[\"statuses_count\"].sum()/len(genuine.index),\n",
    "                'Political': social1[\"statuses_count\"].sum()/len(social1.index), 'Apps Promo': social2[\"statuses_count\"].sum()/len(social2.index),\n",
    "                'Amazon': social3[\"statuses_count\"].sum()/len(social3.index), 'Scam URL': traditional2[\"statuses_count\"].sum()/len(traditional2.index),\n",
    "                'Job Offers1': traditional3[\"statuses_count\"].sum()/len(traditional3.index),\n",
    "                'Job Offers2': traditional4[\"statuses_count\"].sum()/len(traditional4.index)}"
   ]
  },
  {
   "cell_type": "code",
   "execution_count": null,
   "metadata": {},
   "outputs": [],
   "source": [
    "\"\"\"Average Favourites Per Account Per Dataset\"\"\"\n",
    "\n",
    "avg_fav = {'Fake': fake[\"favourites_count\"].sum()/len(fake.index), 'Human': genuine[\"favourites_count\"].sum()/len(genuine.index),\n",
    "                'Political': social1[\"favourites_count\"].sum()/len(social1.index), 'Apps Promo': social2[\"favourites_count\"].sum()/len(social2.index),\n",
    "                'Amazon': social3[\"favourites_count\"].sum()/len(social3.index), 'Scam URL': traditional2[\"favourites_count\"].sum()/len(traditional2.index),\n",
    "                'Job Offers1': traditional3[\"favourites_count\"].sum()/len(traditional3.index),\n",
    "                'Job Offers2': traditional4[\"favourites_count\"].sum()/len(traditional4.index)}"
   ]
  },
  {
   "cell_type": "code",
   "execution_count": null,
   "metadata": {},
   "outputs": [],
   "source": [
    "\"\"\"Average Listed Count Per Account Per Dataset\"\"\"\n",
    "\n",
    "avg_fav = {'Fake': fake[\"listed_count\"].sum()/len(fake.index), 'Human': genuine[\"listed_count\"].sum()/len(genuine.index),\n",
    "                'Political': social1[\"listed_count\"].sum()/len(social1.index), 'Apps Promo': social2[\"listed_count\"].sum()/len(social2.index),\n",
    "                'Amazon': social3[\"listed_count\"].sum()/len(social3.index), 'Scam URL': traditional2[\"listed_count\"].sum()/len(traditional2.index),\n",
    "                'Job Offers1': traditional3[\"listed_count\"].sum()/len(traditional3.index),\n",
    "                'Job Offers2': traditional4[\"listed_count\"].sum()/len(traditional4.index)}"
   ]
  },
  {
   "cell_type": "code",
   "execution_count": null,
   "metadata": {},
   "outputs": [],
   "source": [
    "counts = [0, 0]\n",
    "sums = [0, 0]\n",
    "\n",
    "for index, row in bot_accounts.iterrows():\n",
    "  result = scoringPostAllDayNight(row)\n",
    "  if result == 0:\n",
    "    continue\n",
    "  else:\n",
    "    sums[0] += result\n",
    "    counts[0] += 1\n",
    "\n",
    "for index, row in genuine.iterrows():\n",
    "  result = scoringPostAllDayNight(row)\n",
    "  if result == 0:\n",
    "    continue\n",
    "  else:\n",
    "    sums[1] += result\n",
    "    counts[1] += 1\n",
    "\n",
    "average = [sums[0]/counts[0], sums[1]/counts[1]] # [34.83, 217.12]"
   ]
  },
  {
   "cell_type": "code",
   "execution_count": null,
   "metadata": {},
   "outputs": [],
   "source": [
    "distri_1 = []\n",
    "for index, row in bot_accounts.iterrows():\n",
    "  result = scoringLevenshtein(row)\n",
    "  if result == 0:\n",
    "    continue\n",
    "  else:\n",
    "    distri_1.append(result)\n",
    "\n",
    "distri_2 = []\n",
    "for index, row in genuine.iterrows():\n",
    "  result = scoringLevenshtein(row)\n",
    "  if result == 0:\n",
    "    continue\n",
    "  else:\n",
    "    distri_2.append(result)\n",
    "\n",
    "average = [sum(distri_1)/len(distri_1), sum(distri_2)/len(distri_2)]"
   ]
  },
  {
   "cell_type": "code",
   "execution_count": null,
   "metadata": {},
   "outputs": [],
   "source": [
    "keys = list(avg_fav.keys())\n",
    "vals = [int(avg_fav[k]) for k in keys]\n",
    "plt.figure(figsize=(15,8))\n",
    "#plt.style.use(\"dark_background\")\n",
    "ax = sns.barplot(x = keys, y = vals)\n",
    "ax.set_title('Average Number of Tweets Per Account Per Dataset')\n",
    "ax.set_ylabel('Average Number of Tweets')\n",
    "#ax.grid(b=True, which='major', color='#d3d3d3', linewidth=1.0)\n",
    "#ax.grid(b=True, which='minor', color='#d3d3d3', linewidth=0.5)\n",
    "plt.savefig('./figures/fig4.png', transparent=True)"
   ]
  },
  {
   "cell_type": "markdown",
   "metadata": {},
   "source": [
    "## **PART 2 - Account-Level Classification**\n",
    "\n",
    "### **2.1 Feature Scoring**"
   ]
  },
  {
   "cell_type": "code",
   "execution_count": 94,
   "metadata": {},
   "outputs": [],
   "source": [
    "def ScoreFollower(user):\n",
    "  return 1 if user['followers_count'] < 30 else 0\n",
    "def ScoreFriends(user):\n",
    "  return 1 if user['friends_count'] > 800 or user['friends_count'] < 50 else 0\n",
    "def ScoringFavorites(user):\n",
    "  return 1 if user['favourites_count'] < 30 else 0\n",
    "def ScoringListed(user):\n",
    "  return 1 if user['listed_count'] > 50 or user['listed_count'] < 10 else 0\n",
    "def ScoreLessTweets(user):\n",
    "  return 1 if user['statuses_count'] < 1000 else 0\n",
    "def ScoreEmptyTweets(user):\n",
    "  return 1 if user['statuses_count'] == 0 else 0\n",
    "def ScoreBannerURL(user):\n",
    "  return 1 if user['profile_banner_url'] != '' else 0\n",
    "def ScoreImageURL(user):\n",
    "  return 1 if user['profile_image_url'] != '' else 0\n",
    "def ScoreAvatar(user):\n",
    "  return 1 if user['default_profile_image'] != '' else 0\n",
    "def ScoreDescription(user):\n",
    "  return 1 if user['description'] == '' else 0\n",
    "def ScoreLocation(user):\n",
    "  return 1 if user['geo_enabled'] == '' else 0\n",
    "def ScoreVerified(user):\n",
    "  return 1 if user['verified'] != '' else 0\n",
    "def ScoreProtected(user):\n",
    "  return 1 if user['protected'] != '' else 0\n",
    "def SetLabel(user):\n",
    "  return 1 if user['is_bot'] == 1 else 0"
   ]
  },
  {
   "cell_type": "code",
   "execution_count": 134,
   "metadata": {},
   "outputs": [],
   "source": [
    "Functions = {\n",
    "  ScoreFollower: 'Follower', ScoreFriends: 'Friends', ScoringFavorites: 'Favorites',\n",
    "  ScoringListed: 'Listed', ScoreLessTweets: 'LessTweets', ScoreEmptyTweets: 'EmptyTweets',\n",
    "  ScoreBannerURL: 'BannerURL', ScoreImageURL: 'ImageURL', ScoreAvatar: 'Avatar',\n",
    "  ScoreDescription: 'Description', ScoreLocation: 'Location', ScoreVerified: 'Verified',\n",
    "  ScoreProtected: 'Protected', SetLabel: 'IsBot',\n",
    "}\n",
    "\n",
    "score = pd.DataFrame()\n",
    "score['ID'] = accounts['id']"
   ]
  },
  {
   "cell_type": "code",
   "execution_count": 135,
   "metadata": {},
   "outputs": [],
   "source": [
    "for func in Functions.keys():\n",
    "  score[Functions[func]] = accounts.apply(lambda item: func(item), axis = 1)"
   ]
  },
  {
   "cell_type": "code",
   "execution_count": 136,
   "metadata": {},
   "outputs": [
    {
     "data": {
      "text/plain": [
       "Counter({1: 9894, 0: 3474})"
      ]
     },
     "execution_count": 136,
     "metadata": {},
     "output_type": "execute_result"
    }
   ],
   "source": [
    "new_score = score.copy()\n",
    "del new_score['ID']\n",
    "\n",
    "if 'IsBot' in new_score:\n",
    "  y = new_score['IsBot'].values\n",
    "  del new_score['IsBot']\n",
    "  X = new_score.values\n",
    "Counter(y)"
   ]
  },
  {
   "cell_type": "markdown",
   "metadata": {},
   "source": [
    "### **2.2 Apply Oversampling and Undersampling**"
   ]
  },
  {
   "cell_type": "code",
   "execution_count": 137,
   "metadata": {},
   "outputs": [
    {
     "data": {
      "text/plain": [
       "Counter({0: 7851, 1: 9498})"
      ]
     },
     "execution_count": 137,
     "metadata": {},
     "output_type": "execute_result"
    }
   ],
   "source": [
    "from imblearn.combine import SMOTEENN \n",
    "\n",
    "sme = SMOTEENN(random_state=42)\n",
    "X, y = sme.fit_resample(X, y)\n",
    "X, y = shuffle(X, y)\n",
    "Counter(y)"
   ]
  },
  {
   "cell_type": "markdown",
   "metadata": {},
   "source": [
    "### **2.3 Logistic Regression**"
   ]
  },
  {
   "cell_type": "code",
   "execution_count": 138,
   "metadata": {},
   "outputs": [
    {
     "name": "stdout",
     "output_type": "stream",
     "text": [
      "Confusion Matrix (AUC: 0.9979249524468269):\n",
      " [[2581   11]\n",
      " [   1 3190]]\n",
      "Confusion Matrix (AUC: 0.9979249524468269):\n",
      " [[2602   12]\n",
      " [   0 3169]]\n",
      "Confusion Matrix (AUC: 0.9996541587411378):\n",
      " [[2643    2]\n",
      " [   0 3138]]\n"
     ]
    }
   ],
   "source": [
    "from sklearn.model_selection import KFold\n",
    "from sklearn.linear_model import LogisticRegression\n",
    "from sklearn.metrics import confusion_matrix, classification_report, accuracy_score\n",
    "\n",
    "kf = KFold(n_splits=3, random_state=None)\n",
    "lr = LogisticRegression(penalty='l2', C=1.0, class_weight=None)\n",
    "\n",
    "for train_index , test_index in kf.split(X):\n",
    "  X_train = X[train_index]\n",
    "  y_train = y[train_index]\n",
    "    \n",
    "  X_test = X[test_index]\n",
    "  y_test = y[test_index]\n",
    "\n",
    "  lr.fit(X_train, y_train)\n",
    "  y_hat = lr.predict(X_test)\n",
    "\n",
    "  print('Confusion Matrix (AUC: {}):\\n'.format(accuracy_score(y_test, y_hat)), confusion_matrix(y_test, y_hat))"
   ]
  },
  {
   "cell_type": "markdown",
   "metadata": {},
   "source": [
    "### **2.4 Weights Normalization**"
   ]
  },
  {
   "cell_type": "code",
   "execution_count": 139,
   "metadata": {},
   "outputs": [],
   "source": [
    "from sklearn.preprocessing import StandardScaler\n",
    "\n",
    "scale = StandardScaler().fit(X_train)\n",
    "X_train_scaled = scale.transform(X_train)\n",
    "X_test_scaled = scale.transform(X_test)\n",
    "\n",
    "lr.fit(X_train_scaled, y_train)\n",
    "y_hat = lr.predict(X_test_scaled)"
   ]
  },
  {
   "cell_type": "code",
   "execution_count": 140,
   "metadata": {},
   "outputs": [
    {
     "name": "stdout",
     "output_type": "stream",
     "text": [
      "Follower has weight of 0.7019033162906962\n",
      "Friends has weight of -1.6740438005382077\n",
      "Favorites has weight of 7.003880235595578\n",
      "Listed has weight of -0.012704703680489884\n",
      "LessTweets has weight of 1.4239066234063427\n",
      "EmptyTweets has weight of 0.03521357195707673\n",
      "BannerURL has weight of -1.3412858306218116\n",
      "ImageURL has weight of 0.0\n",
      "Avatar has weight of -0.17138539400124644\n",
      "Description has weight of -0.5216978565869895\n",
      "Location has weight of 1.8107534117687705\n",
      "Verified has weight of -0.007613813338438889\n",
      "Protected has weight of -0.12396575684751465\n"
     ]
    }
   ],
   "source": [
    "weights = lr.coef_.T\n",
    "variable_names = new_score.columns\n",
    "weight_dic = {}\n",
    "for coef, name in zip(weights, variable_names):\n",
    "  print(name, 'has weight of', coef[0])\n",
    "  weight_dic[name] = coef[0]"
   ]
  },
  {
   "cell_type": "code",
   "execution_count": 141,
   "metadata": {},
   "outputs": [
    {
     "data": {
      "image/png": "[encoded data removed]",
      "text/plain": [
       "<Figure size 1440x432 with 1 Axes>"
      ]
     },
     "metadata": {},
     "output_type": "display_data"
    }
   ],
   "source": [
    "weight_dic.pop(\"is_bot\", None)\n",
    "\n",
    "keys = list(weight_dic.keys())\n",
    "vals = [weight_dic[k] for k in keys]\n",
    "plt.figure(figsize=(20,6))\n",
    "plt.style.use(\"dark_background\")\n",
    "ax = sns.barplot(x = keys, y = vals)\n",
    "ax.set_title('Weights for Each Feature')\n",
    "ax.set_ylabel('Weight')\n",
    "ax.grid(b=True, which='major', color='#d3d3d3', linewidth=1.0)\n",
    "ax.grid(b=True, which='minor', color='#d3d3d3', linewidth=0.5)\n",
    "plt.savefig('./figures/fig6.png', transparent=True)"
   ]
  },
  {
   "cell_type": "markdown",
   "metadata": {},
   "source": [
    "### **2.5 Support Vector Machines**"
   ]
  },
  {
   "cell_type": "code",
   "execution_count": 224,
   "metadata": {},
   "outputs": [
    {
     "name": "stdout",
     "output_type": "stream",
     "text": [
      "Confusion Matrix (AUC: 0.9998270793705689):\n",
      " [[2644    1]\n",
      " [   0 3138]]\n",
      "\n",
      "Report: Support Vector Machine\n",
      "               precision    recall  f1-score   support\n",
      "\n",
      "           0       1.00      1.00      1.00      2645\n",
      "           1       1.00      1.00      1.00      3138\n",
      "\n",
      "    accuracy                           1.00      5783\n",
      "   macro avg       1.00      1.00      1.00      5783\n",
      "weighted avg       1.00      1.00      1.00      5783\n",
      "\n"
     ]
    }
   ],
   "source": [
    "from sklearn.svm import SVC\n",
    "\n",
    "svm = SVC(C = 0.5, kernel = 'rbf', degree = 3, gamma = 'auto')\n",
    "svm.fit(X_train_scaled, y_train)\n",
    "\n",
    "y_hat = svm.predict(X_test_scaled)\n",
    "\n",
    "print('Confusion Matrix (AUC: {}):\\n'.format(accuracy_score(y_test, y_hat)), confusion_matrix(y_test, y_hat))\n",
    "\n",
    "print('\\nReport: Support Vector Machine\\n', classification_report(y_test, y_hat))\n"
   ]
  },
  {
   "cell_type": "markdown",
   "metadata": {},
   "source": [
    "## **PART 3 - Tweet-Level Classification**\n",
    "\n",
    "### **3.1 Data Preprocess**"
   ]
  },
  {
   "cell_type": "code",
   "execution_count": 194,
   "metadata": {},
   "outputs": [],
   "source": [
    "user_tweets = tweets['text']\n",
    "y = tweets['is_bot']"
   ]
  },
  {
   "cell_type": "code",
   "execution_count": 195,
   "metadata": {},
   "outputs": [],
   "source": [
    "user_tweets = user_tweets.replace(to_replace=r'@[a-z A-Z 0-9]*', value='<user>', regex=True)\n",
    "user_tweets = user_tweets.replace(to_replace=r'#[a-z A-Z 0-9]*', value='<hashtag>', regex=True)\n",
    "user_tweets = user_tweets.replace(to_replace=r'^(http|https)://(.*)', value='<url>', regex=True)\n",
    "user_tweets = user_tweets.replace(to_replace=r'\\d+', value='<number>', regex=True)"
   ]
  },
  {
   "cell_type": "code",
   "execution_count": 197,
   "metadata": {},
   "outputs": [],
   "source": [
    "stopwords = [ \"a\", \"about\", \"above\", \"after\", \"again\", \"against\", \"all\", \"am\", \"an\", \"and\", \"any\", \"are\", \"as\", \"at\", \"be\", \"because\", \n",
    "             \"been\", \"before\", \"being\", \"below\", \"between\", \"both\", \"but\", \"by\", \"could\", \"did\", \"do\", \"does\", \"doing\", \"down\", \"during\",\n",
    "             \"each\", \"few\", \"for\", \"from\", \"further\", \"had\", \"has\", \"have\", \"having\", \"he\", \"he'd\", \"he'll\", \"he's\", \"her\", \"here\", \n",
    "             \"here's\", \"hers\", \"herself\", \"him\", \"himself\", \"his\", \"how\", \"how's\", \"i\", \"i'd\", \"i'll\", \"i'm\", \"i've\", \"if\", \"in\", \"into\",\n",
    "             \"is\", \"it\", \"it's\", \"its\", \"itself\", \"let's\", \"me\", \"more\", \"most\", \"my\", \"myself\", \"nor\", \"of\", \"on\", \"once\", \"only\", \"or\",\n",
    "             \"other\", \"ought\", \"our\", \"ours\", \"ourselves\", \"out\", \"over\", \"own\", \"same\", \"she\", \"she'd\", \"she'll\", \"she's\", \"should\", \n",
    "             \"so\", \"some\", \"such\", \"than\", \"that\", \"that's\", \"the\", \"their\", \"theirs\", \"them\", \"themselves\", \"then\", \"there\", \"there's\",\n",
    "             \"these\", \"they\", \"they'd\", \"they'll\", \"they're\", \"they've\", \"this\", \"those\", \"through\", \"to\", \"too\", \"under\", \"until\", \"up\",\n",
    "             \"very\", \"was\", \"we\", \"we'd\", \"we'll\", \"we're\", \"we've\", \"were\", \"what\", \"what's\", \"when\", \"when's\", \"where\", \"where's\",\n",
    "             \"which\", \"while\", \"who\", \"who's\", \"whom\", \"why\", \"why's\", \"with\", \"would\", \"you\", \"you'd\", \"you'll\", \"you're\", \"you've\",\n",
    "             \"your\", \"yours\", \"yourself\", \"yourselves\" ]\n",
    "\n",
    "def remove_stopwords(data):\n",
    "  data = data.apply(lambda x : ' '.join([word for word in x.split() if word not in (stopwords)]))\n",
    "  return data\n",
    "\n",
    "user_tweets_no_stop = remove_stopwords(user_tweets)"
   ]
  },
  {
   "cell_type": "code",
   "execution_count": 199,
   "metadata": {},
   "outputs": [
    {
     "data": {
      "text/plain": [
       "943272       You striking face. How many times struck there?\n",
       "1558694                                           Bride rent\n",
       "671738      I just ran <number>.<number> mi Nike+. <hashtag>\n",
       "208706     \"They always say time changes things, actually...\n",
       "1123785    There nothing stupid educated man get off thin...\n",
       "                                 ...                        \n",
       "583154     I don't even bag packed yet lmao. My homegirl ...\n",
       "1982845                GIKAPOY NAJOD KO . CAPS. PARA INTENSE\n",
       "292115     So degree political science, I think - closest...\n",
       "59650      Who Paul Evans Classic Rock Artist? http://t.c...\n",
       "353744     RT <user>: If missed earlier Roy Hodgson's tra...\n",
       "Name: text, Length: 6492521, dtype: object"
      ]
     },
     "execution_count": 199,
     "metadata": {},
     "output_type": "execute_result"
    }
   ],
   "source": [
    "user_tweets_no_stop"
   ]
  },
  {
   "cell_type": "code",
   "execution_count": 202,
   "metadata": {},
   "outputs": [],
   "source": [
    "from sklearn.model_selection import train_test_split\n",
    "\n",
    "X_train2, X_test2, Y_train2, Y_test2 = train_test_split(user_tweets_no_stop, y, test_size=0.2, random_state = 45)"
   ]
  },
  {
   "cell_type": "code",
   "execution_count": 205,
   "metadata": {},
   "outputs": [],
   "source": [
    "from keras.preprocessing.text import Tokenizer\n",
    "\n",
    "tokenizer = Tokenizer(num_words=5000)\n",
    "tokenizer.fit_on_texts(X_train2)\n",
    "\n",
    "words_to_index = tokenizer.word_index"
   ]
  },
  {
   "cell_type": "code",
   "execution_count": 206,
   "metadata": {},
   "outputs": [],
   "source": [
    "def read_glove_vector(glove_vec):\n",
    "  with open(glove_vec, 'r', encoding='UTF-8') as f:\n",
    "    words = set()\n",
    "    word_to_vec_map = {}\n",
    "    for line in f:\n",
    "      w_line = line.split()\n",
    "      curr_word = w_line[0]\n",
    "      word_to_vec_map[curr_word] = np.array(w_line[1:], dtype=np.float64)\n",
    "\n",
    "  return word_to_vec_map\n",
    "\n",
    "word_to_vec_map = read_glove_vector('./glove/glove.twitter.27B.50d.txt')"
   ]
  },
  {
   "cell_type": "code",
   "execution_count": 239,
   "metadata": {},
   "outputs": [],
   "source": [
    "from keras.layers.embeddings import Embedding\n",
    "\n",
    "maxLen = 32\n",
    "vocab_len = len(words_to_index)\n",
    "embed_vector_len = word_to_vec_map['moon'].shape[0]\n",
    "\n",
    "emb_matrix = np.zeros((vocab_len, embed_vector_len))\n",
    "\n",
    "for word, index in words_to_index.items():\n",
    "  embedding_vector = word_to_vec_map.get(word)\n",
    "  if embedding_vector is not None:\n",
    "    emb_matrix[index, :] = embedding_vector\n",
    "\n",
    "embedding_layer = Embedding(input_dim=vocab_len, output_dim=embed_vector_len, input_length=maxLen, weights = [emb_matrix], trainable=False)"
   ]
  },
  {
   "cell_type": "code",
   "execution_count": 243,
   "metadata": {},
   "outputs": [],
   "source": [
    "from keras.layers import LSTM, Activation, Dropout, Dense, Input, Conv1D, MaxPooling1D, GlobalMaxPooling1D\n",
    "from keras.models import Model\n",
    "\n",
    "def rnn(input_shape):\n",
    "  X_indices = Input(input_shape)\n",
    "  embeddings = embedding_layer(X_indices)\n",
    "  X = LSTM(128, return_sequences=True, activation='relu')(embeddings)\n",
    "  X = Dropout(0.5)(X)\n",
    "  X = LSTM(64, return_sequences=True, activation='relu')(X)\n",
    "  X = Dense(1, activation='relu')(X)\n",
    "  model = Model(inputs=X_indices, outputs=X)\n",
    "  return model"
   ]
  },
  {
   "cell_type": "code",
   "execution_count": 241,
   "metadata": {},
   "outputs": [
    {
     "name": "stdout",
     "output_type": "stream",
     "text": [
      "Model: \"model_6\"\n",
      "_________________________________________________________________\n",
      "Layer (type)                 Output Shape              Param #   \n",
      "=================================================================\n",
      "input_8 (InputLayer)         [(None, 32)]              0         \n",
      "_________________________________________________________________\n",
      "embedding_2 (Embedding)      (None, 32, 50)            79013350  \n",
      "_________________________________________________________________\n",
      "lstm_13 (LSTM)               (None, 32, 128)           91648     \n",
      "_________________________________________________________________\n",
      "dropout_10 (Dropout)         (None, 32, 128)           0         \n",
      "_________________________________________________________________\n",
      "lstm_14 (LSTM)               (None, 32, 64)            49408     \n",
      "_________________________________________________________________\n",
      "dense_9 (Dense)              (None, 32, 1)             65        \n",
      "=================================================================\n",
      "Total params: 79,154,471\n",
      "Trainable params: 141,121\n",
      "Non-trainable params: 79,013,350\n",
      "_________________________________________________________________\n"
     ]
    }
   ],
   "source": [
    "model = rnn((maxLen,))\n",
    "model.summary()"
   ]
  },
  {
   "cell_type": "code",
   "execution_count": 237,
   "metadata": {},
   "outputs": [],
   "source": [
    "from keras.preprocessing.sequence import pad_sequences\n",
    "\n",
    "X_train_indices = tokenizer.texts_to_sequences(X_train2)\n",
    "X_train_indices = pad_sequences(X_train_indices, maxlen=maxLen, padding='post')"
   ]
  },
  {
   "cell_type": "code",
   "execution_count": 246,
   "metadata": {},
   "outputs": [
    {
     "name": "stdout",
     "output_type": "stream",
     "text": [
      "Epoch 1/10\n",
      "19003/40579 [=============>................] - ETA: 24:16 - loss: 0.3265 - accuracy: 0.8567"
     ]
    },
    {
     "ename": "KeyboardInterrupt",
     "evalue": "",
     "output_type": "error",
     "traceback": [
      "\u001b[0;31m---------------------------------------------------------------------------\u001b[0m",
      "\u001b[0;31mKeyboardInterrupt\u001b[0m                         Traceback (most recent call last)",
      "\u001b[0;32m/var/folders/xg/cy3vztzx1cdb247td3zgryqr0000gn/T/ipykernel_8096/381076230.py\u001b[0m in \u001b[0;36m<module>\u001b[0;34m\u001b[0m\n\u001b[1;32m      4\u001b[0m \u001b[0mmodel\u001b[0m\u001b[0;34m.\u001b[0m\u001b[0mcompile\u001b[0m\u001b[0;34m(\u001b[0m\u001b[0moptimizer\u001b[0m\u001b[0;34m=\u001b[0m\u001b[0madam\u001b[0m\u001b[0;34m,\u001b[0m \u001b[0mloss\u001b[0m\u001b[0;34m=\u001b[0m\u001b[0;34m'binary_crossentropy'\u001b[0m\u001b[0;34m,\u001b[0m \u001b[0mmetrics\u001b[0m\u001b[0;34m=\u001b[0m\u001b[0;34m[\u001b[0m\u001b[0;34m'accuracy'\u001b[0m\u001b[0;34m]\u001b[0m\u001b[0;34m)\u001b[0m\u001b[0;34m\u001b[0m\u001b[0;34m\u001b[0m\u001b[0m\n\u001b[1;32m      5\u001b[0m \u001b[0;34m\u001b[0m\u001b[0m\n\u001b[0;32m----> 6\u001b[0;31m \u001b[0mmodel\u001b[0m\u001b[0;34m.\u001b[0m\u001b[0mfit\u001b[0m\u001b[0;34m(\u001b[0m\u001b[0mX_train_indices\u001b[0m\u001b[0;34m,\u001b[0m \u001b[0mY_train2\u001b[0m\u001b[0;34m,\u001b[0m \u001b[0mbatch_size\u001b[0m\u001b[0;34m=\u001b[0m\u001b[0;36m128\u001b[0m\u001b[0;34m,\u001b[0m \u001b[0mepochs\u001b[0m\u001b[0;34m=\u001b[0m\u001b[0;36m10\u001b[0m\u001b[0;34m)\u001b[0m\u001b[0;34m\u001b[0m\u001b[0;34m\u001b[0m\u001b[0m\n\u001b[0m",
      "\u001b[0;32m/usr/local/lib/python3.9/site-packages/keras/engine/training.py\u001b[0m in \u001b[0;36mfit\u001b[0;34m(self, x, y, batch_size, epochs, verbose, callbacks, validation_split, validation_data, shuffle, class_weight, sample_weight, initial_epoch, steps_per_epoch, validation_steps, validation_batch_size, validation_freq, max_queue_size, workers, use_multiprocessing)\u001b[0m\n\u001b[1;32m   1182\u001b[0m                 _r=1):\n\u001b[1;32m   1183\u001b[0m               \u001b[0mcallbacks\u001b[0m\u001b[0;34m.\u001b[0m\u001b[0mon_train_batch_begin\u001b[0m\u001b[0;34m(\u001b[0m\u001b[0mstep\u001b[0m\u001b[0;34m)\u001b[0m\u001b[0;34m\u001b[0m\u001b[0;34m\u001b[0m\u001b[0m\n\u001b[0;32m-> 1184\u001b[0;31m               \u001b[0mtmp_logs\u001b[0m \u001b[0;34m=\u001b[0m \u001b[0mself\u001b[0m\u001b[0;34m.\u001b[0m\u001b[0mtrain_function\u001b[0m\u001b[0;34m(\u001b[0m\u001b[0miterator\u001b[0m\u001b[0;34m)\u001b[0m\u001b[0;34m\u001b[0m\u001b[0;34m\u001b[0m\u001b[0m\n\u001b[0m\u001b[1;32m   1185\u001b[0m               \u001b[0;32mif\u001b[0m \u001b[0mdata_handler\u001b[0m\u001b[0;34m.\u001b[0m\u001b[0mshould_sync\u001b[0m\u001b[0;34m:\u001b[0m\u001b[0;34m\u001b[0m\u001b[0;34m\u001b[0m\u001b[0m\n\u001b[1;32m   1186\u001b[0m                 \u001b[0mcontext\u001b[0m\u001b[0;34m.\u001b[0m\u001b[0masync_wait\u001b[0m\u001b[0;34m(\u001b[0m\u001b[0;34m)\u001b[0m\u001b[0;34m\u001b[0m\u001b[0;34m\u001b[0m\u001b[0m\n",
      "\u001b[0;32m/usr/local/lib/python3.9/site-packages/tensorflow/python/eager/def_function.py\u001b[0m in \u001b[0;36m__call__\u001b[0;34m(self, *args, **kwds)\u001b[0m\n\u001b[1;32m    883\u001b[0m \u001b[0;34m\u001b[0m\u001b[0m\n\u001b[1;32m    884\u001b[0m       \u001b[0;32mwith\u001b[0m \u001b[0mOptionalXlaContext\u001b[0m\u001b[0;34m(\u001b[0m\u001b[0mself\u001b[0m\u001b[0;34m.\u001b[0m\u001b[0m_jit_compile\u001b[0m\u001b[0;34m)\u001b[0m\u001b[0;34m:\u001b[0m\u001b[0;34m\u001b[0m\u001b[0;34m\u001b[0m\u001b[0m\n\u001b[0;32m--> 885\u001b[0;31m         \u001b[0mresult\u001b[0m \u001b[0;34m=\u001b[0m \u001b[0mself\u001b[0m\u001b[0;34m.\u001b[0m\u001b[0m_call\u001b[0m\u001b[0;34m(\u001b[0m\u001b[0;34m*\u001b[0m\u001b[0margs\u001b[0m\u001b[0;34m,\u001b[0m \u001b[0;34m**\u001b[0m\u001b[0mkwds\u001b[0m\u001b[0;34m)\u001b[0m\u001b[0;34m\u001b[0m\u001b[0;34m\u001b[0m\u001b[0m\n\u001b[0m\u001b[1;32m    886\u001b[0m \u001b[0;34m\u001b[0m\u001b[0m\n\u001b[1;32m    887\u001b[0m       \u001b[0mnew_tracing_count\u001b[0m \u001b[0;34m=\u001b[0m \u001b[0mself\u001b[0m\u001b[0;34m.\u001b[0m\u001b[0mexperimental_get_tracing_count\u001b[0m\u001b[0;34m(\u001b[0m\u001b[0;34m)\u001b[0m\u001b[0;34m\u001b[0m\u001b[0;34m\u001b[0m\u001b[0m\n",
      "\u001b[0;32m/usr/local/lib/python3.9/site-packages/tensorflow/python/eager/def_function.py\u001b[0m in \u001b[0;36m_call\u001b[0;34m(self, *args, **kwds)\u001b[0m\n\u001b[1;32m    915\u001b[0m       \u001b[0;31m# In this case we have created variables on the first call, so we run the\u001b[0m\u001b[0;34m\u001b[0m\u001b[0;34m\u001b[0m\u001b[0m\n\u001b[1;32m    916\u001b[0m       \u001b[0;31m# defunned version which is guaranteed to never create variables.\u001b[0m\u001b[0;34m\u001b[0m\u001b[0;34m\u001b[0m\u001b[0m\n\u001b[0;32m--> 917\u001b[0;31m       \u001b[0;32mreturn\u001b[0m \u001b[0mself\u001b[0m\u001b[0;34m.\u001b[0m\u001b[0m_stateless_fn\u001b[0m\u001b[0;34m(\u001b[0m\u001b[0;34m*\u001b[0m\u001b[0margs\u001b[0m\u001b[0;34m,\u001b[0m \u001b[0;34m**\u001b[0m\u001b[0mkwds\u001b[0m\u001b[0;34m)\u001b[0m  \u001b[0;31m# pylint: disable=not-callable\u001b[0m\u001b[0;34m\u001b[0m\u001b[0;34m\u001b[0m\u001b[0m\n\u001b[0m\u001b[1;32m    918\u001b[0m     \u001b[0;32melif\u001b[0m \u001b[0mself\u001b[0m\u001b[0;34m.\u001b[0m\u001b[0m_stateful_fn\u001b[0m \u001b[0;32mis\u001b[0m \u001b[0;32mnot\u001b[0m \u001b[0;32mNone\u001b[0m\u001b[0;34m:\u001b[0m\u001b[0;34m\u001b[0m\u001b[0;34m\u001b[0m\u001b[0m\n\u001b[1;32m    919\u001b[0m       \u001b[0;31m# Release the lock early so that multiple threads can perform the call\u001b[0m\u001b[0;34m\u001b[0m\u001b[0;34m\u001b[0m\u001b[0m\n",
      "\u001b[0;32m/usr/local/lib/python3.9/site-packages/tensorflow/python/eager/function.py\u001b[0m in \u001b[0;36m__call__\u001b[0;34m(self, *args, **kwargs)\u001b[0m\n\u001b[1;32m   3037\u001b[0m       (graph_function,\n\u001b[1;32m   3038\u001b[0m        filtered_flat_args) = self._maybe_define_function(args, kwargs)\n\u001b[0;32m-> 3039\u001b[0;31m     return graph_function._call_flat(\n\u001b[0m\u001b[1;32m   3040\u001b[0m         filtered_flat_args, captured_inputs=graph_function.captured_inputs)  # pylint: disable=protected-access\n\u001b[1;32m   3041\u001b[0m \u001b[0;34m\u001b[0m\u001b[0m\n",
      "\u001b[0;32m/usr/local/lib/python3.9/site-packages/tensorflow/python/eager/function.py\u001b[0m in \u001b[0;36m_call_flat\u001b[0;34m(self, args, captured_inputs, cancellation_manager)\u001b[0m\n\u001b[1;32m   1961\u001b[0m         and executing_eagerly):\n\u001b[1;32m   1962\u001b[0m       \u001b[0;31m# No tape is watching; skip to running the function.\u001b[0m\u001b[0;34m\u001b[0m\u001b[0;34m\u001b[0m\u001b[0m\n\u001b[0;32m-> 1963\u001b[0;31m       return self._build_call_outputs(self._inference_function.call(\n\u001b[0m\u001b[1;32m   1964\u001b[0m           ctx, args, cancellation_manager=cancellation_manager))\n\u001b[1;32m   1965\u001b[0m     forward_backward = self._select_forward_and_backward_functions(\n",
      "\u001b[0;32m/usr/local/lib/python3.9/site-packages/tensorflow/python/eager/function.py\u001b[0m in \u001b[0;36mcall\u001b[0;34m(self, ctx, args, cancellation_manager)\u001b[0m\n\u001b[1;32m    589\u001b[0m       \u001b[0;32mwith\u001b[0m \u001b[0m_InterpolateFunctionError\u001b[0m\u001b[0;34m(\u001b[0m\u001b[0mself\u001b[0m\u001b[0;34m)\u001b[0m\u001b[0;34m:\u001b[0m\u001b[0;34m\u001b[0m\u001b[0;34m\u001b[0m\u001b[0m\n\u001b[1;32m    590\u001b[0m         \u001b[0;32mif\u001b[0m \u001b[0mcancellation_manager\u001b[0m \u001b[0;32mis\u001b[0m \u001b[0;32mNone\u001b[0m\u001b[0;34m:\u001b[0m\u001b[0;34m\u001b[0m\u001b[0;34m\u001b[0m\u001b[0m\n\u001b[0;32m--> 591\u001b[0;31m           outputs = execute.execute(\n\u001b[0m\u001b[1;32m    592\u001b[0m               \u001b[0mstr\u001b[0m\u001b[0;34m(\u001b[0m\u001b[0mself\u001b[0m\u001b[0;34m.\u001b[0m\u001b[0msignature\u001b[0m\u001b[0;34m.\u001b[0m\u001b[0mname\u001b[0m\u001b[0;34m)\u001b[0m\u001b[0;34m,\u001b[0m\u001b[0;34m\u001b[0m\u001b[0;34m\u001b[0m\u001b[0m\n\u001b[1;32m    593\u001b[0m               \u001b[0mnum_outputs\u001b[0m\u001b[0;34m=\u001b[0m\u001b[0mself\u001b[0m\u001b[0;34m.\u001b[0m\u001b[0m_num_outputs\u001b[0m\u001b[0;34m,\u001b[0m\u001b[0;34m\u001b[0m\u001b[0;34m\u001b[0m\u001b[0m\n",
      "\u001b[0;32m/usr/local/lib/python3.9/site-packages/tensorflow/python/eager/execute.py\u001b[0m in \u001b[0;36mquick_execute\u001b[0;34m(op_name, num_outputs, inputs, attrs, ctx, name)\u001b[0m\n\u001b[1;32m     57\u001b[0m   \u001b[0;32mtry\u001b[0m\u001b[0;34m:\u001b[0m\u001b[0;34m\u001b[0m\u001b[0;34m\u001b[0m\u001b[0m\n\u001b[1;32m     58\u001b[0m     \u001b[0mctx\u001b[0m\u001b[0;34m.\u001b[0m\u001b[0mensure_initialized\u001b[0m\u001b[0;34m(\u001b[0m\u001b[0;34m)\u001b[0m\u001b[0;34m\u001b[0m\u001b[0;34m\u001b[0m\u001b[0m\n\u001b[0;32m---> 59\u001b[0;31m     tensors = pywrap_tfe.TFE_Py_Execute(ctx._handle, device_name, op_name,\n\u001b[0m\u001b[1;32m     60\u001b[0m                                         inputs, attrs, num_outputs)\n\u001b[1;32m     61\u001b[0m   \u001b[0;32mexcept\u001b[0m \u001b[0mcore\u001b[0m\u001b[0;34m.\u001b[0m\u001b[0m_NotOkStatusException\u001b[0m \u001b[0;32mas\u001b[0m \u001b[0me\u001b[0m\u001b[0;34m:\u001b[0m\u001b[0;34m\u001b[0m\u001b[0;34m\u001b[0m\u001b[0m\n",
      "\u001b[0;31mKeyboardInterrupt\u001b[0m: "
     ]
    }
   ],
   "source": [
    "import tensorflow as tf\n",
    "\n",
    "adam = tf.keras.optimizers.Adam(learning_rate = 0.0001)\n",
    "model.compile(optimizer=adam, loss='binary_crossentropy', metrics=['accuracy'])\n",
    "\n",
    "model.fit(X_train_indices, Y_train2, batch_size=128, epochs=10)"
   ]
  },
  {
   "cell_type": "code",
   "execution_count": null,
   "metadata": {},
   "outputs": [],
   "source": [
    "model.evaluate(X_test_indices, Y_test2)"
   ]
  },
  {
   "cell_type": "markdown",
   "metadata": {},
   "source": [
    "## **PART X - Deprecated Codes**"
   ]
  },
  {
   "cell_type": "code",
   "execution_count": null,
   "metadata": {},
   "outputs": [],
   "source": [
    "def ScoreFollower(user):\n",
    "  return user['followers_count']\n",
    "def ScoreFriends(user):\n",
    "  return user['friends_count']\n",
    "def ScoringFavorites(user):\n",
    "  return user['favourites_count']\n",
    "def ScoringListed(user):\n",
    "  return user['listed_count']\n",
    "def ScoreStatuses(user):\n",
    "  return user['statuses_count']\n",
    "def ScoreBannerURL(user):\n",
    "  return 1 if user['profile_banner_url'] != '' else 0\n",
    "def ScoreImageURL(user):\n",
    "  return 1 if user['profile_image_url'] != '' else 0\n",
    "def ScoreDescription(user):\n",
    "  return 1 if user['description'] == '' else 0\n",
    "def ScoreLocation(user):\n",
    "  return 1 if user['geo_enabled'] == '' else 0\n",
    "def ScoreVerified(user):\n",
    "  return 1 if user['verified'] != '' else 0\n",
    "def ScoreProtected(user):\n",
    "  return 1 if user['protected'] != '' else 0\n",
    "def SetLabel(user):\n",
    "  return 1 if user['is_bot'] == 1 else 0"
   ]
  },
  {
   "cell_type": "code",
   "execution_count": 185,
   "metadata": {},
   "outputs": [
    {
     "name": "stdout",
     "output_type": "stream",
     "text": [
      "RT <user>: If you missed it earlier Roy Hodg.\n",
      "I LOVE CAMERON AND NASH to all of my neighbors <hashtag>\n",
      "<url>\n",
      "my <number> have <number> and a<number>as\n"
     ]
    }
   ],
   "source": [
    "str = 'RT @Squawka: If you missed it earlier Roy Hodg.'\n",
    "print(re.sub('@[a-z A-Z 0-9]*', '<user>', str))\n",
    "str = 'I LOVE CAMERON AND NASH to all of my neighbors #CamAndNashNewVideo'\n",
    "print(re.sub('#[a-z A-Z 0-9]*', '<hashtag>', str))\n",
    "str = 'http://t.co/yHvhEHE0Kb'\n",
    "print(re.sub('^(http|https)://(.*)', '<url>', str))\n",
    "str = 'my 21 have 21313 and a8323as'\n",
    "print(re.sub('\\d+', '<number>', str))"
   ]
  }
 ],
 "metadata": {
  "interpreter": {
   "hash": "aee8b7b246df8f9039afb4144a1f6fd8d2ca17a180786b69acc140d282b71a49"
  },
  "kernelspec": {
   "display_name": "Python 3.9.7 64-bit",
   "name": "python3"
  },
  "language_info": {
   "codemirror_mode": {
    "name": "ipython",
    "version": 3
   },
   "file_extension": ".py",
   "mimetype": "text/x-python",
   "name": "python",
   "nbconvert_exporter": "python",
   "pygments_lexer": "ipython3",
   "version": "3.9.7"
  },
  "orig_nbformat": 4
 },
 "nbformat": 4,
 "nbformat_minor": 2
}
