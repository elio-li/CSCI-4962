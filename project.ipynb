{
 "cells": [
  {
   "cell_type": "markdown",
   "metadata": {},
   "source": [
    "# **Final Project: Twitter Bot Detection**\n",
    "\n",
    "*For details pls check the project report\n",
    "\n",
    "## **PART 1 - Dataset**\n",
    "\n",
    "### **1.1 Description**"
   ]
  },
  {
   "cell_type": "code",
   "execution_count": 1,
   "metadata": {},
   "outputs": [],
   "source": [
    "import random, itertools, traceback\n",
    "import numpy as np\n",
    "import pandas as pd\n",
    "import imblearn as ibl\n",
    "import seaborn as sns\n",
    "import matplotlib.pyplot as plt"
   ]
  },
  {
   "cell_type": "code",
   "execution_count": 2,
   "metadata": {},
   "outputs": [],
   "source": [
    "from sklearn.utils import shuffle\n",
    "\n",
    "# Accounts\n",
    "fake = pd.read_csv(\"./dataset/fake/users.csv\")\n",
    "genuine = pd.read_csv(\"./dataset/genuine/users.csv\")\n",
    "social1 = pd.read_csv(\"./dataset/social1/users.csv\")\n",
    "social2 = pd.read_csv(\"./dataset/social2/users.csv\")\n",
    "social3 = pd.read_csv(\"./dataset/social3/users.csv\")\n",
    "traditional2 = pd.read_csv(\"./dataset/traditional2/users.csv\")\n",
    "traditional3 = pd.read_csv(\"./dataset/traditional3/users.csv\")\n",
    "traditional4 = pd.read_csv(\"./dataset/traditional4/users.csv\")\n",
    "\n",
    "# Concatenate All Dataframe as One\n",
    "social = pd.concat([social1, social2, social3])\n",
    "traditional = pd.concat([traditional2, traditional3, traditional4])\n",
    "bot_accounts = pd.concat([social, traditional, fake])\n",
    "bots_no_trad = pd.concat([social, fake])\n",
    "\n",
    "bot_accounts['is_bot'] = 1\n",
    "bots_no_trad['is_bot'] = 1\n",
    "genuine['is_bot'] = 0\n",
    "\n",
    "accounts = pd.concat([bot_accounts, genuine])\n",
    "accounts = shuffle(accounts)\n",
    "accounts = accounts.fillna('')\n",
    "\n",
    "accounts_no_trad = pd.concat([bots_no_trad, genuine])\n",
    "accounts_no_trad = shuffle(accounts_no_trad)\n",
    "accounts_no_trad = accounts_no_trad.fillna('')"
   ]
  },
  {
   "cell_type": "code",
   "execution_count": 3,
   "metadata": {},
   "outputs": [
    {
     "name": "stderr",
     "output_type": "stream",
     "text": [
      "/usr/local/lib/python3.9/site-packages/IPython/core/interactiveshell.py:3444: DtypeWarning: Columns (8,11) have mixed types.Specify dtype option on import or set low_memory=False.\n",
      "  exec(code_obj, self.user_global_ns, self.user_ns)\n",
      "/usr/local/lib/python3.9/site-packages/IPython/core/interactiveshell.py:3444: DtypeWarning: Columns (0) have mixed types.Specify dtype option on import or set low_memory=False.\n",
      "  exec(code_obj, self.user_global_ns, self.user_ns)\n",
      "/usr/local/lib/python3.9/site-packages/IPython/core/interactiveshell.py:3444: DtypeWarning: Columns (10) have mixed types.Specify dtype option on import or set low_memory=False.\n",
      "  exec(code_obj, self.user_global_ns, self.user_ns)\n",
      "/usr/local/lib/python3.9/site-packages/IPython/core/interactiveshell.py:3444: DtypeWarning: Columns (7,10) have mixed types.Specify dtype option on import or set low_memory=False.\n",
      "  exec(code_obj, self.user_global_ns, self.user_ns)\n"
     ]
    }
   ],
   "source": [
    "# Tweets\n",
    "fake_t = pd.read_csv(\"./dataset/fake/tweets.csv\", encoding='latin-1')\n",
    "genuine_t = pd.read_csv(\"./dataset/genuine/tweets.csv\", encoding='latin-1')\n",
    "social1_t = pd.read_csv(\"./dataset/social1/tweets.csv\", encoding='latin-1')\n",
    "social2_t = pd.read_csv(\"./dataset/social2/tweets.csv\", encoding='latin-1')\n",
    "social3_t = pd.read_csv(\"./dataset/social3/tweets.csv\", encoding='latin-1')\n",
    "\n",
    "# Concatenate All Dataframe as One\n",
    "social_t = pd.concat([social1_t, social2_t, social3_t])\n",
    "bot_accounts_t = pd.concat([social_t, fake_t])\n",
    "\n",
    "bot_accounts_t['is_bot'] = 1\n",
    "genuine_t['is_bot'] = 0\n",
    "genuine_t = genuine_t[genuine_t['user_id'].notna()]\n",
    "genuine_t['user_id'].astype('int64')\n",
    "\n",
    "tweets = pd.concat([bot_accounts_t, genuine_t])\n",
    "tweets = shuffle(tweets)\n",
    "tweets = tweets.fillna('')\n",
    "\n",
    "tweets['time'] = pd.to_datetime(tweets['timestamp']).dt.time\n",
    "tweets['time'] = pd.to_timedelta(tweets.time.astype(str))"
   ]
  },
  {
   "cell_type": "markdown",
   "metadata": {},
   "source": [
    "### **1.2 Statistics**\n",
    "\n",
    "**images are in project reports*"
   ]
  },
  {
   "cell_type": "code",
   "execution_count": null,
   "metadata": {},
   "outputs": [],
   "source": [
    "\"\"\"Number of Twitter Accounts Per Dataset\"\"\"\n",
    "\n",
    "sns.set_style(\"whitegrid\")\n",
    "num_accounts = {'Fake': len(fake.index), 'Human': len(genuine.index), 'Political': len(social1.index),\n",
    "                'Apps Promo': len(social2.index), 'Amazon': len(social3.index), 'Scam URL': len(traditional2.index),\n",
    "                'Job Offers1': len(traditional3.index), 'Job Offers2': len(traditional4.index)}"
   ]
  },
  {
   "cell_type": "code",
   "execution_count": null,
   "metadata": {},
   "outputs": [],
   "source": [
    "\"\"\"Average Number of Followers Per Account Per Dataset\"\"\"\n",
    "\n",
    "avg_followers = {'Fake': fake[\"followers_count\"].sum()/len(fake.index), 'Human': genuine[\"followers_count\"].sum()/len(genuine.index),\n",
    "                'Political': social1[\"followers_count\"].sum()/len(social1.index), 'Apps Promo': social2[\"followers_count\"].sum()/len(social2.index),\n",
    "                'Amazon': social3[\"followers_count\"].sum()/len(social3.index), 'Scam URL': traditional2[\"followers_count\"].sum()/len(traditional2.index),\n",
    "                'Job Offers1': traditional3[\"followers_count\"].sum()/len(traditional3.index),\n",
    "                'Job Offers2': traditional4[\"followers_count\"].sum()/len(traditional4.index)}"
   ]
  },
  {
   "cell_type": "code",
   "execution_count": null,
   "metadata": {},
   "outputs": [],
   "source": [
    "\"\"\"Average Number of Friends Per Account Per Dataset\"\"\"\n",
    "\n",
    "avg_friends = {'Fake': fake[\"friends_count\"].sum()/len(fake.index), 'Human': genuine[\"friends_count\"].sum()/len(genuine.index),\n",
    "                'Political': social1[\"friends_count\"].sum()/len(social1.index), 'Apps Promo': social2[\"friends_count\"].sum()/len(social2.index),\n",
    "                'Amazon': social3[\"friends_count\"].sum()/len(social3.index), 'Scam URL': traditional2[\"friends_count\"].sum()/len(traditional2.index),\n",
    "                'Job Offers1': traditional3[\"friends_count\"].sum()/len(traditional3.index),\n",
    "                'Job Offers2': traditional4[\"friends_count\"].sum()/len(traditional4.index)}"
   ]
  },
  {
   "cell_type": "code",
   "execution_count": null,
   "metadata": {},
   "outputs": [],
   "source": [
    "\"\"\"Average Number of Tweets Per Account Per Dataset\"\"\"\n",
    "\n",
    "avg_tweets = {'Fake': fake[\"statuses_count\"].sum()/len(fake.index), 'Human': genuine[\"statuses_count\"].sum()/len(genuine.index),\n",
    "                'Political': social1[\"statuses_count\"].sum()/len(social1.index), 'Apps Promo': social2[\"statuses_count\"].sum()/len(social2.index),\n",
    "                'Amazon': social3[\"statuses_count\"].sum()/len(social3.index), 'Scam URL': traditional2[\"statuses_count\"].sum()/len(traditional2.index),\n",
    "                'Job Offers1': traditional3[\"statuses_count\"].sum()/len(traditional3.index),\n",
    "                'Job Offers2': traditional4[\"statuses_count\"].sum()/len(traditional4.index)}"
   ]
  },
  {
   "cell_type": "code",
   "execution_count": null,
   "metadata": {},
   "outputs": [],
   "source": [
    "\"\"\"Average Favourites Per Account Per Dataset\"\"\"\n",
    "\n",
    "avg_fav = {'Fake': fake[\"favourites_count\"].sum()/len(fake.index), 'Human': genuine[\"favourites_count\"].sum()/len(genuine.index),\n",
    "                'Political': social1[\"favourites_count\"].sum()/len(social1.index), 'Apps Promo': social2[\"favourites_count\"].sum()/len(social2.index),\n",
    "                'Amazon': social3[\"favourites_count\"].sum()/len(social3.index), 'Scam URL': traditional2[\"favourites_count\"].sum()/len(traditional2.index),\n",
    "                'Job Offers1': traditional3[\"favourites_count\"].sum()/len(traditional3.index),\n",
    "                'Job Offers2': traditional4[\"favourites_count\"].sum()/len(traditional4.index)}"
   ]
  },
  {
   "cell_type": "code",
   "execution_count": null,
   "metadata": {},
   "outputs": [],
   "source": [
    "\"\"\"Average Listed Count Per Account Per Dataset\"\"\"\n",
    "\n",
    "avg_fav = {'Fake': fake[\"listed_count\"].sum()/len(fake.index), 'Human': genuine[\"listed_count\"].sum()/len(genuine.index),\n",
    "                'Political': social1[\"listed_count\"].sum()/len(social1.index), 'Apps Promo': social2[\"listed_count\"].sum()/len(social2.index),\n",
    "                'Amazon': social3[\"listed_count\"].sum()/len(social3.index), 'Scam URL': traditional2[\"listed_count\"].sum()/len(traditional2.index),\n",
    "                'Job Offers1': traditional3[\"listed_count\"].sum()/len(traditional3.index),\n",
    "                'Job Offers2': traditional4[\"listed_count\"].sum()/len(traditional4.index)}"
   ]
  },
  {
   "cell_type": "code",
   "execution_count": null,
   "metadata": {},
   "outputs": [],
   "source": [
    "counts = [0, 0]\n",
    "sums = [0, 0]\n",
    "\n",
    "for index, row in bot_accounts.iterrows():\n",
    "  result = scoringPostAllDayNight(row)\n",
    "  if result == 0:\n",
    "    continue\n",
    "  else:\n",
    "    sums[0] += result\n",
    "    counts[0] += 1\n",
    "\n",
    "for index, row in genuine.iterrows():\n",
    "  result = scoringPostAllDayNight(row)\n",
    "  if result == 0:\n",
    "    continue\n",
    "  else:\n",
    "    sums[1] += result\n",
    "    counts[1] += 1\n",
    "\n",
    "average = [sums[0]/counts[0], sums[1]/counts[1]] # [34.83, 217.12]"
   ]
  },
  {
   "cell_type": "code",
   "execution_count": null,
   "metadata": {},
   "outputs": [],
   "source": [
    "distri_1 = []\n",
    "for index, row in bot_accounts.iterrows():\n",
    "  result = scoringLevenshtein(row)\n",
    "  if result == 0:\n",
    "    continue\n",
    "  else:\n",
    "    distri_1.append(result)\n",
    "\n",
    "distri_2 = []\n",
    "for index, row in genuine.iterrows():\n",
    "  result = scoringLevenshtein(row)\n",
    "  if result == 0:\n",
    "    continue\n",
    "  else:\n",
    "    distri_2.append(result)\n",
    "\n",
    "average = [sum(distri_1)/len(distri_1), sum(distri_2)/len(distri_2)]"
   ]
  },
  {
   "cell_type": "code",
   "execution_count": null,
   "metadata": {},
   "outputs": [],
   "source": [
    "keys = list(avg_fav.keys())\n",
    "vals = [int(avg_fav[k]) for k in keys]\n",
    "plt.figure(figsize=(15,8))\n",
    "#plt.style.use(\"dark_background\")\n",
    "ax = sns.barplot(x = keys, y = vals)\n",
    "ax.set_title('Average Number of Tweets Per Account Per Dataset')\n",
    "ax.set_ylabel('Average Number of Tweets')\n",
    "#ax.grid(b=True, which='major', color='#d3d3d3', linewidth=1.0)\n",
    "#ax.grid(b=True, which='minor', color='#d3d3d3', linewidth=0.5)\n",
    "plt.savefig('./figures/fig4.png', transparent=True)"
   ]
  },
  {
   "cell_type": "markdown",
   "metadata": {},
   "source": [
    "## **PART 2 - Account-Level Classification**\n",
    "\n",
    "### **2.1 Feature Scoring**"
   ]
  },
  {
   "cell_type": "code",
   "execution_count": 4,
   "metadata": {},
   "outputs": [],
   "source": [
    "def ScoreFollower(user):\n",
    "  return 1 if user['followers_count'] < 30 else 0\n",
    "def ScoreFriends(user):\n",
    "  return 1 if user['friends_count'] > 800 or user['friends_count'] < 50 else 0\n",
    "def ScoringFavorites(user):\n",
    "  return 1 if user['favourites_count'] < 30 else 0\n",
    "def ScoringListed(user):\n",
    "  return 1 if user['listed_count'] > 50 or user['listed_count'] < 10 else 0\n",
    "def ScoreLessTweets(user):\n",
    "  return 1 if user['statuses_count'] < 1000 else 0\n",
    "def ScoreEmptyTweets(user):\n",
    "  return 1 if user['statuses_count'] == 0 else 0\n",
    "def ScoreBannerURL(user):\n",
    "  return 1 if user['profile_banner_url'] != '' else 0\n",
    "def ScoreImageURL(user):\n",
    "  return 1 if user['profile_image_url'] != '' else 0\n",
    "def ScoreAvatar(user):\n",
    "  return 1 if user['default_profile_image'] != '' else 0\n",
    "def ScoreDescription(user):\n",
    "  return 1 if user['description'] == '' else 0\n",
    "def ScoreLocation(user):\n",
    "  return 1 if user['geo_enabled'] == '' else 0\n",
    "def ScoreVerified(user):\n",
    "  return 1 if user['verified'] != '' else 0\n",
    "def ScoreProtected(user):\n",
    "  return 1 if user['protected'] != '' else 0\n",
    "def SetLabel(user):\n",
    "  return 1 if user['is_bot'] == 1 else 0"
   ]
  },
  {
   "cell_type": "code",
   "execution_count": 5,
   "metadata": {},
   "outputs": [],
   "source": [
    "Functions = {\n",
    "  ScoreFollower: 'Follower', ScoreFriends: 'Friends', ScoringFavorites: 'Favorites',\n",
    "  ScoringListed: 'Listed', ScoreLessTweets: 'LessTweets', ScoreEmptyTweets: 'EmptyTweets',\n",
    "  ScoreBannerURL: 'BannerURL', ScoreImageURL: 'ImageURL', ScoreAvatar: 'Avatar',\n",
    "  ScoreDescription: 'Description', ScoreLocation: 'Location', ScoreVerified: 'Verified',\n",
    "  ScoreProtected: 'Protected', SetLabel: 'IsBot',\n",
    "}\n",
    "\n",
    "score = pd.DataFrame()\n",
    "score['ID'] = accounts['id']"
   ]
  },
  {
   "cell_type": "code",
   "execution_count": 6,
   "metadata": {},
   "outputs": [],
   "source": [
    "for func in Functions.keys():\n",
    "  score[Functions[func]] = accounts.apply(lambda item: func(item), axis = 1)"
   ]
  },
  {
   "cell_type": "code",
   "execution_count": 8,
   "metadata": {},
   "outputs": [
    {
     "data": {
      "text/plain": [
       "Counter({1: 9894, 0: 3474})"
      ]
     },
     "execution_count": 8,
     "metadata": {},
     "output_type": "execute_result"
    }
   ],
   "source": [
    "from collections import Counter\n",
    "new_score = score.copy()\n",
    "del new_score['ID']\n",
    "\n",
    "if 'IsBot' in new_score:\n",
    "  y = new_score['IsBot'].values\n",
    "  del new_score['IsBot']\n",
    "  X = new_score.values\n",
    "Counter(y)"
   ]
  },
  {
   "cell_type": "markdown",
   "metadata": {},
   "source": [
    "### **2.2 Apply Oversampling and Undersampling**"
   ]
  },
  {
   "cell_type": "code",
   "execution_count": 9,
   "metadata": {},
   "outputs": [
    {
     "data": {
      "text/plain": [
       "Counter({1: 9059, 0: 7277})"
      ]
     },
     "execution_count": 9,
     "metadata": {},
     "output_type": "execute_result"
    }
   ],
   "source": [
    "from imblearn.combine import SMOTEENN \n",
    "\n",
    "sme = SMOTEENN(random_state=42)\n",
    "X, y = sme.fit_resample(X, y)\n",
    "X, y = shuffle(X, y)\n",
    "Counter(y)"
   ]
  },
  {
   "cell_type": "markdown",
   "metadata": {},
   "source": [
    "### **2.3 Logistic Regression**"
   ]
  },
  {
   "cell_type": "code",
   "execution_count": 10,
   "metadata": {},
   "outputs": [
    {
     "name": "stdout",
     "output_type": "stream",
     "text": [
      "Confusion Matrix (AUC: 0.9944913698127066):\n",
      " [[2395   30]\n",
      " [   0 3021]]\n",
      "Confusion Matrix (AUC: 0.9950413223140496):\n",
      " [[2405   27]\n",
      " [   0 3013]]\n",
      "Confusion Matrix (AUC: 0.9955922865013774):\n",
      " [[2397   23]\n",
      " [   1 3024]]\n"
     ]
    }
   ],
   "source": [
    "from sklearn.model_selection import KFold\n",
    "from sklearn.linear_model import LogisticRegression\n",
    "from sklearn.metrics import confusion_matrix, classification_report, accuracy_score\n",
    "\n",
    "kf = KFold(n_splits=3, random_state=None)\n",
    "lr = LogisticRegression(penalty='l2', C=1.0, class_weight=None)\n",
    "\n",
    "for train_index , test_index in kf.split(X):\n",
    "  X_train = X[train_index]\n",
    "  y_train = y[train_index]\n",
    "    \n",
    "  X_test = X[test_index]\n",
    "  y_test = y[test_index]\n",
    "\n",
    "  lr.fit(X_train, y_train)\n",
    "  y_hat = lr.predict(X_test)\n",
    "\n",
    "  print('Confusion Matrix (AUC: {}):\\n'.format(accuracy_score(y_test, y_hat)), confusion_matrix(y_test, y_hat))"
   ]
  },
  {
   "cell_type": "markdown",
   "metadata": {},
   "source": [
    "### **2.4 Weights Normalization**"
   ]
  },
  {
   "cell_type": "code",
   "execution_count": 11,
   "metadata": {},
   "outputs": [],
   "source": [
    "from sklearn.preprocessing import StandardScaler\n",
    "\n",
    "scale = StandardScaler().fit(X_train)\n",
    "X_train_scaled = scale.transform(X_train)\n",
    "X_test_scaled = scale.transform(X_test)\n",
    "\n",
    "lr.fit(X_train_scaled, y_train)\n",
    "y_hat = lr.predict(X_test_scaled)"
   ]
  },
  {
   "cell_type": "code",
   "execution_count": 12,
   "metadata": {},
   "outputs": [
    {
     "name": "stdout",
     "output_type": "stream",
     "text": [
      "Follower has weight of -1.360162245512275\n",
      "Friends has weight of 0.5100998828293891\n",
      "Favorites has weight of 7.153229517528755\n",
      "Listed has weight of -1.6057991991308558\n",
      "LessTweets has weight of 0.5293280267156838\n",
      "EmptyTweets has weight of 0.3205289390962539\n",
      "BannerURL has weight of -2.3364772051171308\n",
      "ImageURL has weight of 0.0\n",
      "Avatar has weight of -0.20692241259854188\n",
      "Description has weight of -0.03437853544619482\n",
      "Location has weight of 1.9329021568472886\n",
      "Verified has weight of -0.1230827472044503\n",
      "Protected has weight of -0.011098677544165544\n"
     ]
    }
   ],
   "source": [
    "weights = lr.coef_.T\n",
    "variable_names = new_score.columns\n",
    "weight_dic = {}\n",
    "for coef, name in zip(weights, variable_names):\n",
    "  print(name, 'has weight of', coef[0])\n",
    "  weight_dic[name] = coef[0]"
   ]
  },
  {
   "cell_type": "code",
   "execution_count": 13,
   "metadata": {},
   "outputs": [
    {
     "data": {
      "image/png": "[encoded data removed]",
      "text/plain": [
       "<Figure size 1440x432 with 1 Axes>"
      ]
     },
     "metadata": {
      "needs_background": "dark"
     },
     "output_type": "display_data"
    }
   ],
   "source": [
    "weight_dic.pop(\"is_bot\", None)\n",
    "\n",
    "keys = list(weight_dic.keys())\n",
    "vals = [weight_dic[k] for k in keys]\n",
    "plt.figure(figsize=(20,6))\n",
    "plt.style.use(\"dark_background\")\n",
    "ax = sns.barplot(x = keys, y = vals)\n",
    "ax.set_title('Weights for Each Feature')\n",
    "ax.set_ylabel('Weight')\n",
    "ax.grid(b=True, which='major', color='#d3d3d3', linewidth=1.0)\n",
    "ax.grid(b=True, which='minor', color='#d3d3d3', linewidth=0.5)\n",
    "plt.savefig('./figures/fig6.png', transparent=True)"
   ]
  },
  {
   "cell_type": "markdown",
   "metadata": {},
   "source": [
    "### **2.5 Support Vector Machines**"
   ]
  },
  {
   "cell_type": "code",
   "execution_count": 14,
   "metadata": {},
   "outputs": [
    {
     "name": "stdout",
     "output_type": "stream",
     "text": [
      "Confusion Matrix (AUC: 0.9981634527089073):\n",
      " [[2412    8]\n",
      " [   2 3023]]\n",
      "\n",
      "Report: Support Vector Machine\n",
      "               precision    recall  f1-score   support\n",
      "\n",
      "           0       1.00      1.00      1.00      2420\n",
      "           1       1.00      1.00      1.00      3025\n",
      "\n",
      "    accuracy                           1.00      5445\n",
      "   macro avg       1.00      1.00      1.00      5445\n",
      "weighted avg       1.00      1.00      1.00      5445\n",
      "\n"
     ]
    }
   ],
   "source": [
    "from sklearn.svm import SVC\n",
    "\n",
    "svm = SVC(C = 0.5, kernel = 'rbf', degree = 3, gamma = 'auto')\n",
    "svm.fit(X_train_scaled, y_train)\n",
    "\n",
    "y_hat = svm.predict(X_test_scaled)\n",
    "\n",
    "print('Confusion Matrix (AUC: {}):\\n'.format(accuracy_score(y_test, y_hat)), confusion_matrix(y_test, y_hat))\n",
    "\n",
    "print('\\nReport: Support Vector Machine\\n', classification_report(y_test, y_hat))\n"
   ]
  },
  {
   "cell_type": "markdown",
   "metadata": {},
   "source": [
    "## **PART 3 - Tweet-Level Classification**\n",
    "\n",
    "### **3.1 Data Preprocess**"
   ]
  },
  {
   "cell_type": "code",
   "execution_count": 15,
   "metadata": {},
   "outputs": [],
   "source": [
    "user_tweets = tweets['text']\n",
    "y = tweets['is_bot']"
   ]
  },
  {
   "cell_type": "code",
   "execution_count": 16,
   "metadata": {},
   "outputs": [],
   "source": [
    "user_tweets = user_tweets.replace(to_replace=r'@[a-z A-Z 0-9]*', value='<user>', regex=True)\n",
    "user_tweets = user_tweets.replace(to_replace=r'#[a-z A-Z 0-9]*', value='<hashtag>', regex=True)\n",
    "user_tweets = user_tweets.replace(to_replace=r'^(http|https)://(.*)', value='<url>', regex=True)\n",
    "user_tweets = user_tweets.replace(to_replace=r'\\d+', value='<number>', regex=True)"
   ]
  },
  {
   "cell_type": "code",
   "execution_count": 18,
   "metadata": {},
   "outputs": [],
   "source": [
    "stopwords = [ \"a\", \"about\", \"above\", \"after\", \"again\", \"against\", \"all\", \"am\", \"an\", \"and\", \"any\", \"are\", \"as\", \"at\", \"be\", \"because\", \n",
    "             \"been\", \"before\", \"being\", \"below\", \"between\", \"both\", \"but\", \"by\", \"could\", \"did\", \"do\", \"does\", \"doing\", \"down\", \"during\",\n",
    "             \"each\", \"few\", \"for\", \"from\", \"further\", \"had\", \"has\", \"have\", \"having\", \"he\", \"he'd\", \"he'll\", \"he's\", \"her\", \"here\", \n",
    "             \"here's\", \"hers\", \"herself\", \"him\", \"himself\", \"his\", \"how\", \"how's\", \"i\", \"i'd\", \"i'll\", \"i'm\", \"i've\", \"if\", \"in\", \"into\",\n",
    "             \"is\", \"it\", \"it's\", \"its\", \"itself\", \"let's\", \"me\", \"more\", \"most\", \"my\", \"myself\", \"nor\", \"of\", \"on\", \"once\", \"only\", \"or\",\n",
    "             \"other\", \"ought\", \"our\", \"ours\", \"ourselves\", \"out\", \"over\", \"own\", \"same\", \"she\", \"she'd\", \"she'll\", \"she's\", \"should\", \n",
    "             \"so\", \"some\", \"such\", \"than\", \"that\", \"that's\", \"the\", \"their\", \"theirs\", \"them\", \"themselves\", \"then\", \"there\", \"there's\",\n",
    "             \"these\", \"they\", \"they'd\", \"they'll\", \"they're\", \"they've\", \"this\", \"those\", \"through\", \"to\", \"too\", \"under\", \"until\", \"up\",\n",
    "             \"very\", \"was\", \"we\", \"we'd\", \"we'll\", \"we're\", \"we've\", \"were\", \"what\", \"what's\", \"when\", \"when's\", \"where\", \"where's\",\n",
    "             \"which\", \"while\", \"who\", \"who's\", \"whom\", \"why\", \"why's\", \"with\", \"would\", \"you\", \"you'd\", \"you'll\", \"you're\", \"you've\",\n",
    "             \"your\", \"yours\", \"yourself\", \"yourselves\" ]\n",
    "\n",
    "def remove_stopwords(data):\n",
    "  data = data.apply(lambda x : ' '.join([word for word in x.split() if word not in (stopwords)]))\n",
    "  return data\n",
    "\n",
    "user_tweets = user_tweets.str.lower()\n",
    "user_tweets_no_stop = remove_stopwords(user_tweets)"
   ]
  },
  {
   "cell_type": "code",
   "execution_count": 19,
   "metadata": {},
   "outputs": [],
   "source": [
    "from sklearn.model_selection import train_test_split\n",
    "\n",
    "X_train2, X_test2, Y_train2, Y_test2 = train_test_split(user_tweets_no_stop, y, test_size=0.2, random_state = 45)"
   ]
  },
  {
   "cell_type": "code",
   "execution_count": 20,
   "metadata": {},
   "outputs": [],
   "source": [
    "from keras.preprocessing.text import Tokenizer\n",
    "\n",
    "tokenizer = Tokenizer(num_words=5000)\n",
    "tokenizer.fit_on_texts(X_train2)\n",
    "\n",
    "words_to_index = tokenizer.word_index"
   ]
  },
  {
   "cell_type": "code",
   "execution_count": 21,
   "metadata": {},
   "outputs": [],
   "source": [
    "def read_glove_vector(glove_vec):\n",
    "  with open(glove_vec, 'r', encoding='UTF-8') as f:\n",
    "    words = set()\n",
    "    word_to_vec_map = {}\n",
    "    for line in f:\n",
    "      w_line = line.split()\n",
    "      curr_word = w_line[0]\n",
    "      word_to_vec_map[curr_word] = np.array(w_line[1:], dtype=np.float64)\n",
    "\n",
    "  return word_to_vec_map\n",
    "\n",
    "word_to_vec_map = read_glove_vector('./glove/glove.twitter.27B.50d.txt')"
   ]
  },
  {
   "cell_type": "code",
   "execution_count": 22,
   "metadata": {},
   "outputs": [],
   "source": [
    "from keras.layers.embeddings import Embedding\n",
    "\n",
    "maxLen = 32\n",
    "vocab_len = len(words_to_index)\n",
    "embed_vector_len = word_to_vec_map['moon'].shape[0]\n",
    "\n",
    "emb_matrix = np.zeros((vocab_len, embed_vector_len))\n",
    "\n",
    "for word, index in words_to_index.items():\n",
    "  embedding_vector = word_to_vec_map.get(word)\n",
    "  if embedding_vector is not None:\n",
    "    emb_matrix[index, :] = embedding_vector\n",
    "\n",
    "embedding_layer = Embedding(input_dim=vocab_len, output_dim=embed_vector_len, input_length=maxLen, weights = [emb_matrix], trainable=False)"
   ]
  },
  {
   "cell_type": "code",
   "execution_count": 23,
   "metadata": {},
   "outputs": [],
   "source": [
    "from keras.layers import LSTM, Activation, Dropout, Dense, Input, Conv1D, MaxPooling1D, GlobalMaxPooling1D\n",
    "from keras.models import Model\n",
    "\n",
    "def rnn(input_shape):\n",
    "  X_indices = Input(input_shape)\n",
    "  embeddings = embedding_layer(X_indices)\n",
    "  X = LSTM(128, return_sequences=True, activation='relu')(embeddings)\n",
    "  X = Dropout(0.5)(X)\n",
    "  X = LSTM(64, return_sequences=True, activation='relu')(X)\n",
    "  X = Dense(1, activation='relu')(X)\n",
    "  model = Model(inputs=X_indices, outputs=X)\n",
    "  return model"
   ]
  },
  {
   "cell_type": "code",
   "execution_count": 24,
   "metadata": {},
   "outputs": [
    {
     "name": "stderr",
     "output_type": "stream",
     "text": [
      "2021-12-08 17:04:29.199736: I tensorflow/core/platform/cpu_feature_guard.cc:142] This TensorFlow binary is optimized with oneAPI Deep Neural Network Library (oneDNN) to use the following CPU instructions in performance-critical operations:  AVX2 FMA\n",
      "To enable them in other operations, rebuild TensorFlow with the appropriate compiler flags.\n"
     ]
    },
    {
     "name": "stdout",
     "output_type": "stream",
     "text": [
      "Model: \"model\"\n",
      "_________________________________________________________________\n",
      "Layer (type)                 Output Shape              Param #   \n",
      "=================================================================\n",
      "input_1 (InputLayer)         [(None, 32)]              0         \n",
      "_________________________________________________________________\n",
      "embedding (Embedding)        (None, 32, 50)            78994650  \n",
      "_________________________________________________________________\n",
      "lstm (LSTM)                  (None, 32, 128)           91648     \n",
      "_________________________________________________________________\n",
      "dropout (Dropout)            (None, 32, 128)           0         \n",
      "_________________________________________________________________\n",
      "lstm_1 (LSTM)                (None, 32, 64)            49408     \n",
      "_________________________________________________________________\n",
      "dense (Dense)                (None, 32, 1)             65        \n",
      "=================================================================\n",
      "Total params: 79,135,771\n",
      "Trainable params: 141,121\n",
      "Non-trainable params: 78,994,650\n",
      "_________________________________________________________________\n"
     ]
    }
   ],
   "source": [
    "model = rnn((maxLen,))\n",
    "model.summary()"
   ]
  },
  {
   "cell_type": "code",
   "execution_count": 25,
   "metadata": {},
   "outputs": [],
   "source": [
    "from keras.preprocessing.sequence import pad_sequences\n",
    "\n",
    "X_train_indices = tokenizer.texts_to_sequences(X_train2)\n",
    "X_train_indices = pad_sequences(X_train_indices, maxlen=maxLen, padding='post')"
   ]
  },
  {
   "cell_type": "code",
   "execution_count": 26,
   "metadata": {},
   "outputs": [
    {
     "name": "stderr",
     "output_type": "stream",
     "text": [
      "2021-12-08 17:06:27.444249: I tensorflow/compiler/mlir/mlir_graph_optimization_pass.cc:185] None of the MLIR Optimization Passes are enabled (registered 2)\n"
     ]
    },
    {
     "name": "stdout",
     "output_type": "stream",
     "text": [
      "Epoch 1/10\n",
      "40579/40579 [==============================] - 2656s 65ms/step - loss: 0.3388 - accuracy: 0.8486\n",
      "Epoch 2/10\n",
      "40579/40579 [==============================] - 2809s 69ms/step - loss: 0.2835 - accuracy: 0.8795\n",
      "Epoch 3/10\n",
      "40579/40579 [==============================] - 2701s 67ms/step - loss: 0.2575 - accuracy: 0.8929\n",
      "Epoch 4/10\n",
      "40579/40579 [==============================] - 2973s 73ms/step - loss: 0.2487 - accuracy: 0.8966\n",
      "Epoch 5/10\n",
      "40579/40579 [==============================] - 2669s 66ms/step - loss: 0.2440 - accuracy: 0.8987\n",
      "Epoch 6/10\n",
      "40579/40579 [==============================] - 2616s 64ms/step - loss: 0.2403 - accuracy: 0.9003\n",
      "Epoch 7/10\n",
      "40579/40579 [==============================] - 2674s 66ms/step - loss: 0.2370 - accuracy: 0.9018\n",
      "Epoch 8/10\n",
      "40579/40579 [==============================] - 2793s 69ms/step - loss: 0.2348 - accuracy: 0.9028\n",
      "Epoch 9/10\n",
      "40579/40579 [==============================] - 2659s 66ms/step - loss: 0.2331 - accuracy: 0.9035\n",
      "Epoch 10/10\n",
      "40579/40579 [==============================] - 2684s 66ms/step - loss: 0.2330 - accuracy: 0.9037\n"
     ]
    },
    {
     "data": {
      "text/plain": [
       "<keras.callbacks.History at 0x273404bb0>"
      ]
     },
     "execution_count": 26,
     "metadata": {},
     "output_type": "execute_result"
    }
   ],
   "source": [
    "import tensorflow as tf\n",
    "\n",
    "adam = tf.keras.optimizers.Adam(learning_rate = 0.0001)\n",
    "model.compile(optimizer=adam, loss='binary_crossentropy', metrics=['accuracy'])\n",
    "\n",
    "model.fit(X_train_indices, Y_train2, batch_size=128, epochs=10)"
   ]
  },
  {
   "cell_type": "code",
   "execution_count": 28,
   "metadata": {},
   "outputs": [
    {
     "name": "stdout",
     "output_type": "stream",
     "text": [
      "40579/40579 [==============================] - 329s 8ms/step - loss: 0.2320 - accuracy: 0.9044\n"
     ]
    },
    {
     "data": {
      "text/plain": [
       "[0.2320411503314972, 0.9043644666671753]"
      ]
     },
     "execution_count": 28,
     "metadata": {},
     "output_type": "execute_result"
    }
   ],
   "source": [
    "X_test_indices = tokenizer.texts_to_sequences(X_test2)\n",
    "X_test_indices = pad_sequences(X_test_indices, maxlen=maxLen, padding='post')\n",
    "\n",
    "model.evaluate(X_test_indices, Y_test2)"
   ]
  }
 ],
 "metadata": {
  "interpreter": {
   "hash": "aee8b7b246df8f9039afb4144a1f6fd8d2ca17a180786b69acc140d282b71a49"
  },
  "kernelspec": {
   "display_name": "Python 3.9.7 64-bit",
   "name": "python3"
  },
  "language_info": {
   "codemirror_mode": {
    "name": "ipython",
    "version": 3
   },
   "file_extension": ".py",
   "mimetype": "text/x-python",
   "name": "python",
   "nbconvert_exporter": "python",
   "pygments_lexer": "ipython3",
   "version": "3.9.7"
  },
  "orig_nbformat": 4
 },
 "nbformat": 4,
 "nbformat_minor": 2
}
